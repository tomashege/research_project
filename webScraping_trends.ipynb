{
 "cells": [
  {
   "cell_type": "code",
   "execution_count": 60,
   "metadata": {},
   "outputs": [],
   "source": [
    "country = \"south-africa\"\n",
    "date = \"2020-02-01\"\n",
    "time_international = \"18\"\n",
    "url = \"https://getdaytrends.com/\"+country+\"/\"+date+\"/\"+time_international+\"/\"\n",
    "driver.get(url)\n",
    "#a = driver.find_elements_by_class_name(\"\");\n",
    "#a = driver.find_elements_by_tag_name(\"tr\")\n",
    "#a = driver.find_elements_by_xpath(\"//*[@class='sfibbbc' or @class='jsb']\")\n",
    "clicker = driver.find_elements_by_xpath('//*[@id=\"trends\"]/div/a')[0]\n",
    "clicker.click()\n",
    "\n",
    "a = driver.find_elements_by_xpath('//*[@id=\"trends\"]/table/tbody/tr/td/a')\n",
    "# for i in a:\n",
    "#     print(i.text)"
   ]
  },
  {
   "cell_type": "code",
   "execution_count": 6,
   "metadata": {},
   "outputs": [],
   "source": [
    "from selenium import webdriver\n",
    "import pandas as pd\n",
    "import time"
   ]
  },
  {
   "cell_type": "code",
   "execution_count": 7,
   "metadata": {},
   "outputs": [],
   "source": [
    "driver = webdriver.Chrome('/Users/tomashegewisch/Downloads/chromedriver')"
   ]
  },
  {
   "cell_type": "code",
   "execution_count": 8,
   "metadata": {},
   "outputs": [],
   "source": [
    "the_trends = []\n",
    "def get_trend_pre_day(date):\n",
    "    country = \"south-africa\"\n",
    "    #date = \"2020-02-01\"\n",
    "    #time_international = \"18\"\n",
    "    the_trends_on_day = []\n",
    "    for time_international in range(0,24):\n",
    "        url = \"https://getdaytrends.com/\"+country+\"/\"+date+\"/\"+str(time_international)+\"/\"\n",
    "        global driver\n",
    "        driver.get(url)\n",
    "        #time.sleep(2)\n",
    "        try:\n",
    "            clicker = driver.find_elements_by_xpath('//*[@id=\"trends\"]/div/a')[0]\n",
    "            clicker.click()\n",
    "            a = driver.find_elements_by_xpath('//*[@id=\"trends\"]/table/tbody/tr/td/a')\n",
    "            print(country+\" \"+str(date)+\" \"+str(time_international))\n",
    "            for i in a:\n",
    "                the_trends.append(i.text)\n",
    "                #the_trends_on_day.append(i.text)\n",
    "        except:\n",
    "            print(\"The trends on this day and time is not Available\")\n",
    "            driver = webdriver.Chrome('/Users/tomashegewisch/Downloads/chromedriver')\n",
    "    #the_trends.append(the_trends_without_duplicates)"
   ]
  },
  {
   "cell_type": "code",
   "execution_count": 9,
   "metadata": {},
   "outputs": [
    {
     "name": "stdout",
     "output_type": "stream",
     "text": [
      "south-africa 2020-05-13 0\n",
      "south-africa 2020-05-13 1\n",
      "south-africa 2020-05-13 2\n",
      "south-africa 2020-05-13 3\n",
      "south-africa 2020-05-13 4\n",
      "south-africa 2020-05-13 5\n",
      "south-africa 2020-05-13 6\n",
      "south-africa 2020-05-13 7\n",
      "south-africa 2020-05-13 8\n",
      "south-africa 2020-05-13 9\n",
      "south-africa 2020-05-13 10\n",
      "south-africa 2020-05-13 11\n",
      "south-africa 2020-05-13 12\n",
      "south-africa 2020-05-13 13\n",
      "south-africa 2020-05-13 14\n",
      "south-africa 2020-05-13 15\n",
      "south-africa 2020-05-13 16\n",
      "south-africa 2020-05-13 17\n",
      "south-africa 2020-05-13 18\n",
      "south-africa 2020-05-13 19\n",
      "south-africa 2020-05-13 20\n",
      "south-africa 2020-05-13 21\n",
      "south-africa 2020-05-13 22\n",
      "south-africa 2020-05-13 23\n",
      "Before duplicates: 1112\n",
      "After duplicates are removed: 206\n"
     ]
    }
   ],
   "source": [
    "from datetime import date, timedelta\n",
    "# start_date = date(2020, 3, 19)\n",
    "# end_date = date(2020, 5, 20)\n",
    "\n",
    "start_date = date(2020, 5, 13)\n",
    "end_date = date(2020, 5, 13)\n",
    "delta = timedelta(days=1)\n",
    "while start_date <= end_date:\n",
    "    #print (start_date.strftime(\"%Y-%m-%d\"))\n",
    "    get_trend_pre_day(start_date.strftime(\"%Y-%m-%d\"))\n",
    "    start_date += delta\n",
    "        \n",
    "#Remove The duplicates\n",
    "print(\"Before duplicates: \"+ str(len(the_trends)))\n",
    "#the_trends = list(dict.fromkeys(the_trends))\n",
    "the_trends_without_duplicates = [] \n",
    "[the_trends_without_duplicates.append(x) for x in the_trends if x not in the_trends_without_duplicates]\n",
    "print(\"After duplicates are removed: \" + str(len(the_trends_without_duplicates)))\n",
    "\n",
    "#Create CSV File\n",
    "\n",
    "out = \"Trends,\\n\"\n",
    "#create the document\n",
    "for i in the_trends_without_duplicates:\n",
    "    out+= str(i)+\",\\n\"\n",
    "#write the documnet\n",
    "with open(\"trends.csv\", \"w\")as text_file:\n",
    "    text_file.write(out)"
   ]
  }
 ],
 "metadata": {
  "kernelspec": {
   "display_name": "Python 3",
   "language": "python",
   "name": "python3"
  },
  "language_info": {
   "codemirror_mode": {
    "name": "ipython",
    "version": 3
   },
   "file_extension": ".py",
   "mimetype": "text/x-python",
   "name": "python",
   "nbconvert_exporter": "python",
   "pygments_lexer": "ipython3",
   "version": "3.7.0"
  }
 },
 "nbformat": 4,
 "nbformat_minor": 4
}

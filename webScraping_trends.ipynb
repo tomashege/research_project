{
 "cells": [
  {
   "cell_type": "code",
   "execution_count": 60,
   "metadata": {},
   "outputs": [],
   "source": [
    "country = \"south-africa\"\n",
    "date = \"2020-02-01\"\n",
    "time_international = \"18\"\n",
    "url = \"https://getdaytrends.com/\"+country+\"/\"+date+\"/\"+time_international+\"/\"\n",
    "driver.get(url)\n",
    "#a = driver.find_elements_by_class_name(\"\");\n",
    "#a = driver.find_elements_by_tag_name(\"tr\")\n",
    "#a = driver.find_elements_by_xpath(\"//*[@class='sfibbbc' or @class='jsb']\")\n",
    "clicker = driver.find_elements_by_xpath('//*[@id=\"trends\"]/div/a')[0]\n",
    "clicker.click()\n",
    "\n",
    "a = driver.find_elements_by_xpath('//*[@id=\"trends\"]/table/tbody/tr/td/a')\n",
    "# for i in a:\n",
    "#     print(i.text)"
   ]
  },
  {
   "cell_type": "code",
   "execution_count": 1,
   "metadata": {},
   "outputs": [],
   "source": [
    "from selenium import webdriver\n",
    "import pandas as pd\n",
    "import time"
   ]
  },
  {
   "cell_type": "code",
   "execution_count": 2,
   "metadata": {},
   "outputs": [],
   "source": [
    "driver = webdriver.Chrome('/Users/tomashegewisch/Downloads/chromedriver')"
   ]
  },
  {
   "cell_type": "code",
   "execution_count": 3,
   "metadata": {},
   "outputs": [],
   "source": [
    "the_trends = []\n",
    "def get_trend_pre_day(date):\n",
    "    country = \"south-africa\"\n",
    "    #date = \"2020-02-01\"\n",
    "    #time_international = \"18\"\n",
    "    the_trends_on_day = []\n",
    "    for time_international in range(0,23):\n",
    "#         if time_international == 15 and date == \"2020-03-24\":\n",
    "#             continue\n",
    "        url = \"https://getdaytrends.com/\"+country+\"/\"+date+\"/\"+str(time_international)+\"/\"\n",
    "        global driver\n",
    "        driver.get(url)\n",
    "        #time.sleep(2)\n",
    "        try:\n",
    "            clicker = driver.find_elements_by_xpath('//*[@id=\"trends\"]/div/a')[0]\n",
    "            clicker.click()\n",
    "            a = driver.find_elements_by_xpath('//*[@id=\"trends\"]/table/tbody/tr/td/a')\n",
    "            print(country+\" \"+str(date)+\" \"+str(time_international))\n",
    "            for i in a:\n",
    "                the_trends.append(i.text)\n",
    "                #the_trends_on_day.append(i.text)\n",
    "        except:\n",
    "            print(\"The trends on this day and time is not Available\")\n",
    "            driver = webdriver.Chrome('/Users/tomashegewisch/Downloads/chromedriver')\n",
    "    #the_trends.append(the_trends_without_duplicates)"
   ]
  },
  {
   "cell_type": "code",
   "execution_count": 4,
   "metadata": {},
   "outputs": [
    {
     "name": "stdout",
     "output_type": "stream",
     "text": [
      "south-africa 2020-03-24 12\n",
      "south-africa 2020-03-24 13\n",
      "south-africa 2020-03-24 14\n",
      "The trends on this day and time is not Available\n",
      "south-africa 2020-03-24 16\n",
      "south-africa 2020-03-24 17\n",
      "south-africa 2020-03-24 18\n",
      "south-africa 2020-03-24 19\n",
      "Before duplicates: 343\n",
      "After duplicates are removed: 102\n"
     ]
    }
   ],
   "source": [
    "from datetime import date, timedelta\n",
    "# start_date = date(2020, 3, 19)\n",
    "# end_date = date(2020, 5, 20)\n",
    "\n",
    "start_date = date(2020, 3, 24)\n",
    "end_date = date(2020, 3, 24)\n",
    "delta = timedelta(days=1)\n",
    "while start_date <= end_date:\n",
    "    #print (start_date.strftime(\"%Y-%m-%d\"))\n",
    "    get_trend_pre_day(start_date.strftime(\"%Y-%m-%d\"))\n",
    "    start_date += delta\n",
    "        \n",
    "#Remove The duplicates\n",
    "print(\"Before duplicates: \"+ str(len(the_trends)))\n",
    "#the_trends = list(dict.fromkeys(the_trends))\n",
    "the_trends_without_duplicates = [] \n",
    "[the_trends_without_duplicates.append(x) for x in the_trends if x not in the_trends_without_duplicates]\n",
    "print(\"After duplicates are removed: \" + str(len(the_trends_without_duplicates)))\n",
    "\n",
    "#Create CSV File\n",
    "\n",
    "out = \"Trends,\\n\"\n",
    "#create the document\n",
    "for i in the_trends_without_duplicates:\n",
    "    out+= str(i)+\",\\n\"\n",
    "#write the documnet\n",
    "with open(\"trends.csv\", \"w\")as text_file:\n",
    "    text_file.write(out)"
   ]
  },
  {
   "cell_type": "code",
   "execution_count": 13,
   "metadata": {},
   "outputs": [],
   "source": []
  },
  {
   "cell_type": "code",
   "execution_count": 45,
   "metadata": {},
   "outputs": [
    {
     "data": {
      "text/plain": [
       "1"
      ]
     },
     "execution_count": 45,
     "metadata": {},
     "output_type": "execute_result"
    }
   ],
   "source": [
    "len(the_trends)"
   ]
  },
  {
   "cell_type": "code",
   "execution_count": null,
   "metadata": {},
   "outputs": [],
   "source": [
    "23*"
   ]
  }
 ],
 "metadata": {
  "kernelspec": {
   "display_name": "Python 3",
   "language": "python",
   "name": "python3"
  },
  "language_info": {
   "codemirror_mode": {
    "name": "ipython",
    "version": 3
   },
   "file_extension": ".py",
   "mimetype": "text/x-python",
   "name": "python",
   "nbconvert_exporter": "python",
   "pygments_lexer": "ipython3",
   "version": "3.7.0"
  }
 },
 "nbformat": 4,
 "nbformat_minor": 4
}

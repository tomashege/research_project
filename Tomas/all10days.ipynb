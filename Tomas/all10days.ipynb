{
 "cells": [
  {
   "cell_type": "code",
   "execution_count": 1,
   "metadata": {},
   "outputs": [
    {
     "name": "stderr",
     "output_type": "stream",
     "text": [
      "/opt/anaconda3/lib/python3.8/site-packages/sklearn/utils/deprecation.py:143: FutureWarning: The sklearn.semi_supervised.label_propagation module is  deprecated in version 0.22 and will be removed in version 0.24. The corresponding classes / functions should instead be imported from sklearn.semi_supervised. Anything that cannot be imported from sklearn.semi_supervised is now part of the private API.\n",
      "  warnings.warn(message, FutureWarning)\n",
      "/opt/anaconda3/lib/python3.8/site-packages/sklearn/base.py:329: UserWarning: Trying to unpickle estimator LabelPropagation from version 0.18 when using version 0.23.1. This might lead to breaking code or invalid results. Use at your own risk.\n",
      "  warnings.warn(\n"
     ]
    }
   ],
   "source": [
    "import os\n",
    "import pandas as pd\n",
    "from tqdm import tqdm\n",
    "from socket import socket\n",
    "\n",
    "import pandas as pd\n",
    "import unidecode\n",
    "import string\n",
    "import sklearn.feature_extraction\n",
    "import itertools\n",
    "import re\n",
    "import nltk\n",
    "import normalise\n",
    "\n",
    "from langdetect import detect\n",
    "from tqdm import tqdm\n",
    "from normalise import normalise\n",
    "\n",
    "from collections import Counter\n",
    "\n",
    "import pickle"
   ]
  },
  {
   "cell_type": "code",
   "execution_count": null,
   "metadata": {},
   "outputs": [],
   "source": []
  },
  {
   "cell_type": "code",
   "execution_count": null,
   "metadata": {},
   "outputs": [],
   "source": [
    "dic = \"/Users/emilythiel/Library/Mobile Documents/com~apple~CloudDocs/Documents/University/2020/ISM_Honours/Research/030110/\"\n",
    "#dic = \"/Users/tomashegewisch/Downloads/test/\"\n",
    "files = os.listdir(dic)\n",
    "df = pd.DataFrame()\n",
    "for i in tqdm(files):\n",
    "    #print(dic+str(i))\n",
    "    try:\n",
    "        temp_df = pd.read_json(dic+str(i), lines=True, orient='records')\n",
    "    except:\n",
    "        print(\"somthing went wrong with this one...\" + str(i))\n",
    "    df = df.append(temp_df)\n",
    "print(\"done\")"
   ]
  },
  {
   "cell_type": "code",
   "execution_count": null,
   "metadata": {},
   "outputs": [],
   "source": [
    "dic.to_pickle(file_name)"
   ]
  },
  {
   "cell_type": "code",
   "execution_count": 15,
   "metadata": {},
   "outputs": [
    {
     "name": "stderr",
     "output_type": "stream",
     "text": [
      "[nltk_data] Downloading package brown to\n",
      "[nltk_data]     /Users/emilythiel/nltk_data...\n",
      "[nltk_data]   Package brown is already up-to-date!\n",
      "[nltk_data] Downloading package names to\n",
      "[nltk_data]     /Users/emilythiel/nltk_data...\n",
      "[nltk_data]   Package names is already up-to-date!\n",
      "[nltk_data] Downloading package wordnet to\n",
      "[nltk_data]     /Users/emilythiel/nltk_data...\n",
      "[nltk_data]   Package wordnet is already up-to-date!\n",
      "[nltk_data] Downloading package averaged_perceptron_tagger to\n",
      "[nltk_data]     /Users/emilythiel/nltk_data...\n",
      "[nltk_data]   Package averaged_perceptron_tagger is already up-to-\n",
      "[nltk_data]       date!\n",
      "[nltk_data] Downloading package universal_tagset to\n",
      "[nltk_data]     /Users/emilythiel/nltk_data...\n",
      "[nltk_data]   Package universal_tagset is already up-to-date!\n"
     ]
    }
   ],
   "source": [
    "for dependency in (\"brown\", \"names\", \"wordnet\", \"averaged_perceptron_tagger\", \"universal_tagset\"):\n",
    "    nltk.download(dependency)"
   ]
  },
  {
   "cell_type": "code",
   "execution_count": 16,
   "metadata": {},
   "outputs": [
    {
     "data": {
      "text/plain": [
       "['On',\n",
       " 'the',\n",
       " 'twenty-eighth of',\n",
       " 'April',\n",
       " 'twenty ten',\n",
       " ',',\n",
       " 'Doctor',\n",
       " 'Banks',\n",
       " 'bought',\n",
       " 'a',\n",
       " 'chair',\n",
       " 'for',\n",
       " 'thirty five pounds',\n",
       " '.']"
      ]
     },
     "execution_count": 16,
     "metadata": {},
     "output_type": "execute_result"
    }
   ],
   "source": [
    "text = [\"On\", \"the\", \"28\", \"Apr.\", \"2010\", \",\", \"Dr.\", \"Banks\", \"bought\", \"a\", \"chair\", \"for\", \"£35\", \".\"]\n",
    "\n",
    "normalise(text, verbose=False)"
   ]
  },
  {
   "cell_type": "code",
   "execution_count": 20,
   "metadata": {},
   "outputs": [],
   "source": [
    "rm_punc = str.maketrans(string.punctuation, ' ' * len(string.punctuation))\n",
    "stop_words = sklearn.feature_extraction.text.ENGLISH_STOP_WORDS"
   ]
  },
  {
   "cell_type": "code",
   "execution_count": 26,
   "metadata": {},
   "outputs": [],
   "source": [
    "def clean_tweet_word(word):\n",
    "    if (len(word) > 1) and (word[0] == '#' or word[0] == '@'):\n",
    "        return word[0] + word[1:].translate(rm_punc).strip()\n",
    "    if word.startswith('http') or word.startswith('pic.twitter.com') or word.endswith('.com') or word.endswith('.co.za'):\n",
    "        return ''\n",
    "    if word in stop_words:\n",
    "        return ''\n",
    "    return word.translate(rm_punc).strip()\n",
    "\n",
    "def clean_tweet(tweet):\n",
    "    tweet = unidecode.unidecode(tweet).lower().split()\n",
    "    tweet = [clean_tweet_word(x) for x in tweet]\n",
    "    tweet = list(itertools.chain.from_iterable([x.split() for x in tweet if x != '']))\n",
    "    tweet = [x for x in tweet if len(x) > 1]\n",
    "    return tweet"
   ]
  },
  {
   "cell_type": "code",
   "execution_count": null,
   "metadata": {},
   "outputs": [],
   "source": [
    "# we want to get rid of all the tweets that do not have english in them\n",
    "\n",
    "from langdetect import DetectorFactory #to improve consistency on language detection\n",
    "DetectorFactory.seed = 0\n",
    "\n",
    "print(\"The length of the DF(before): \" + str(len(df)))\n",
    "non_text = 0\n",
    "non_en = 0\n",
    "temp_list_non_eng = []\n",
    "for i in tqdm(df['tweet'].tolist()):\n",
    "    try:\n",
    "        if detect(i) != \"en\":\n",
    "            temp_list_non_eng.append(i)\n",
    "    except:\n",
    "        non_text +=1\n",
    "print(\"Non-Recognisable text: \" + str(non_text)) #emojis etc.         \n",
    "print(\"We found: \"+str(len(temp_list_non_eng))+ \" non-eng tweets\")\n",
    "\n",
    "for i in temp_list_non_eng:\n",
    "    tweets = tweets[tweets.tweet != i]\n",
    "    \n",
    "print(\"The length of the DF(after): \" + str(len(tweets)))"
   ]
  },
  {
   "cell_type": "code",
   "execution_count": 24,
   "metadata": {},
   "outputs": [
    {
     "name": "stdout",
     "output_type": "stream",
     "text": [
      "           Frequency\n",
      "Word                \n",
      "com           600066\n",
      "twitter       563409\n",
      "https         382506\n",
      "…             382040\n",
      "status        336740\n",
      "...              ...\n",
      "home            8937\n",
      "something       8792\n",
      "beautiful       8569\n",
      "next            8464\n",
      "za              8448\n",
      "\n",
      "[100 rows x 1 columns]\n"
     ]
    }
   ],
   "source": [
    "#needs to run just before it is tokenized\n",
    "stopwords = nltk.corpus.stopwords.words('english')\n",
    "# RegEx for stopwords\n",
    "re_stopwords = r'\\b(?:{})\\b'.format('|'.join(stopwords))\n",
    "# replace '|'-->' ' and drop all stopwords\n",
    "words = (df.tweet\n",
    "           .str.lower()\n",
    "           .replace([r'\\|', re_stopwords], [' ', ''], regex=True)\n",
    "           .str.cat(sep=' ')\n",
    "           .translate(rm_punc).strip()\n",
    "           .split()\n",
    ")\n",
    "# generate DF out of Counter\n",
    "rslt = pd.DataFrame(Counter(words).most_common(100),\n",
    "                    columns=['Word', 'Frequency']).set_index('Word')\n",
    "print(rslt)"
   ]
  },
  {
   "cell_type": "code",
   "execution_count": null,
   "metadata": {},
   "outputs": [],
   "source": []
  }
 ],
 "metadata": {
  "kernelspec": {
   "display_name": "Python 3",
   "language": "python",
   "name": "python3"
  },
  "language_info": {
   "codemirror_mode": {
    "name": "ipython",
    "version": 3
   },
   "file_extension": ".py",
   "mimetype": "text/x-python",
   "name": "python",
   "nbconvert_exporter": "python",
   "pygments_lexer": "ipython3",
   "version": "3.8.3"
  }
 },
 "nbformat": 4,
 "nbformat_minor": 4
}

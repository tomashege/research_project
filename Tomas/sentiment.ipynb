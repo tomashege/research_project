{
 "cells": [
  {
   "cell_type": "markdown",
   "metadata": {},
   "source": [
    "# Tweet sentimnet"
   ]
  },
  {
   "cell_type": "code",
   "execution_count": 5,
   "metadata": {},
   "outputs": [],
   "source": [
    "import pandas as pd\n",
    "import os\n",
    "import json\n",
    "import numpy as np\n",
    "import matplotlib\n",
    "from textblob import TextBlob\n",
    "from collections import defaultdict\n",
    "import nltk\n",
    "from nltk.corpus import stopwords\n",
    "import matplotlib.pyplot as plt\n",
    "import seaborn as sns\n",
    "from collections import Counter\n",
    "import spacy\n",
    "from spacy import displacy\n",
    "import re \n",
    "from urllib.parse import urlparse\n",
    "import http.client as httplib\n",
    "import urllib.parse as urlp\n",
    "from tqdm.notebook import tqdm\n",
    "from textstat import flesch_reading_ease\n",
    "from nltk import word_tokenize"
   ]
  },
  {
   "cell_type": "code",
   "execution_count": 6,
   "metadata": {},
   "outputs": [
    {
     "name": "stdout",
     "output_type": "stream",
     "text": [
      "793\n"
     ]
    },
    {
     "data": {
      "text/html": [
       "<div>\n",
       "<style scoped>\n",
       "    .dataframe tbody tr th:only-of-type {\n",
       "        vertical-align: middle;\n",
       "    }\n",
       "\n",
       "    .dataframe tbody tr th {\n",
       "        vertical-align: top;\n",
       "    }\n",
       "\n",
       "    .dataframe thead th {\n",
       "        text-align: right;\n",
       "    }\n",
       "</style>\n",
       "<table border=\"1\" class=\"dataframe\">\n",
       "  <thead>\n",
       "    <tr style=\"text-align: right;\">\n",
       "      <th></th>\n",
       "      <th>created_at</th>\n",
       "      <th>id</th>\n",
       "      <th>id_str</th>\n",
       "      <th>full_text</th>\n",
       "      <th>truncated</th>\n",
       "      <th>display_text_range</th>\n",
       "      <th>entities</th>\n",
       "      <th>source</th>\n",
       "      <th>in_reply_to_status_id</th>\n",
       "      <th>in_reply_to_status_id_str</th>\n",
       "      <th>...</th>\n",
       "      <th>favorited</th>\n",
       "      <th>retweeted</th>\n",
       "      <th>lang</th>\n",
       "      <th>retweeted_status</th>\n",
       "      <th>possibly_sensitive</th>\n",
       "      <th>quoted_status_id</th>\n",
       "      <th>quoted_status_id_str</th>\n",
       "      <th>quoted_status_permalink</th>\n",
       "      <th>quoted_status</th>\n",
       "      <th>extended_entities</th>\n",
       "    </tr>\n",
       "  </thead>\n",
       "  <tbody>\n",
       "    <tr>\n",
       "      <th>0</th>\n",
       "      <td>Thu Apr 09 22:22:30 +0000 2020</td>\n",
       "      <td>1248375762475864065</td>\n",
       "      <td>1248375762475864065</td>\n",
       "      <td>@ukreloaded James spot on YES CHINA is to blam...</td>\n",
       "      <td>False</td>\n",
       "      <td>[12, 290]</td>\n",
       "      <td>{'hashtags': [], 'symbols': [], 'user_mentions...</td>\n",
       "      <td>&lt;a href=\"http://twitter.com/download/iphone\" r...</td>\n",
       "      <td>1.248368e+18</td>\n",
       "      <td>1248368432485203969</td>\n",
       "      <td>...</td>\n",
       "      <td>False</td>\n",
       "      <td>False</td>\n",
       "      <td>en</td>\n",
       "      <td>NaN</td>\n",
       "      <td>NaN</td>\n",
       "      <td>NaN</td>\n",
       "      <td>NaN</td>\n",
       "      <td>NaN</td>\n",
       "      <td>NaN</td>\n",
       "      <td>NaN</td>\n",
       "    </tr>\n",
       "    <tr>\n",
       "      <th>1</th>\n",
       "      <td>Thu Apr 09 22:48:52 +0000 2020</td>\n",
       "      <td>1248382399907377156</td>\n",
       "      <td>1248382399907377156</td>\n",
       "      <td>RT @detikHealth: Gejala Virus Corona Vs Demam ...</td>\n",
       "      <td>False</td>\n",
       "      <td>[0, 101]</td>\n",
       "      <td>{'hashtags': [], 'symbols': [], 'user_mentions...</td>\n",
       "      <td>&lt;a href=\"https://mobile.twitter.com\" rel=\"nofo...</td>\n",
       "      <td>NaN</td>\n",
       "      <td>None</td>\n",
       "      <td>...</td>\n",
       "      <td>False</td>\n",
       "      <td>False</td>\n",
       "      <td>in</td>\n",
       "      <td>{'created_at': 'Thu Apr 09 22:14:05 +0000 2020...</td>\n",
       "      <td>False</td>\n",
       "      <td>NaN</td>\n",
       "      <td>NaN</td>\n",
       "      <td>NaN</td>\n",
       "      <td>NaN</td>\n",
       "      <td>NaN</td>\n",
       "    </tr>\n",
       "    <tr>\n",
       "      <th>2</th>\n",
       "      <td>Thu Apr 09 21:24:12 +0000 2020</td>\n",
       "      <td>1248361093002489857</td>\n",
       "      <td>1248361093002489857</td>\n",
       "      <td>@lynlinking One thing we don’t know yet, is wh...</td>\n",
       "      <td>False</td>\n",
       "      <td>[12, 150]</td>\n",
       "      <td>{'hashtags': [], 'symbols': [], 'user_mentions...</td>\n",
       "      <td>&lt;a href=\"http://twitter.com/#!/download/ipad\" ...</td>\n",
       "      <td>1.248360e+18</td>\n",
       "      <td>1248359561641091073</td>\n",
       "      <td>...</td>\n",
       "      <td>False</td>\n",
       "      <td>False</td>\n",
       "      <td>en</td>\n",
       "      <td>NaN</td>\n",
       "      <td>NaN</td>\n",
       "      <td>NaN</td>\n",
       "      <td>NaN</td>\n",
       "      <td>NaN</td>\n",
       "      <td>NaN</td>\n",
       "      <td>NaN</td>\n",
       "    </tr>\n",
       "    <tr>\n",
       "      <th>3</th>\n",
       "      <td>Thu Apr 09 18:17:03 +0000 2020</td>\n",
       "      <td>1248313996589043712</td>\n",
       "      <td>1248313996589043712</td>\n",
       "      <td>RT @MrSpyBR: @CNNBrasil Este Sr. maliciosament...</td>\n",
       "      <td>False</td>\n",
       "      <td>[0, 140]</td>\n",
       "      <td>{'hashtags': [], 'symbols': [], 'user_mentions...</td>\n",
       "      <td>&lt;a href=\"http://twitter.com/download/android\" ...</td>\n",
       "      <td>NaN</td>\n",
       "      <td>None</td>\n",
       "      <td>...</td>\n",
       "      <td>False</td>\n",
       "      <td>False</td>\n",
       "      <td>pt</td>\n",
       "      <td>{'created_at': 'Thu Apr 09 15:39:52 +0000 2020...</td>\n",
       "      <td>NaN</td>\n",
       "      <td>NaN</td>\n",
       "      <td>NaN</td>\n",
       "      <td>NaN</td>\n",
       "      <td>NaN</td>\n",
       "      <td>NaN</td>\n",
       "    </tr>\n",
       "    <tr>\n",
       "      <th>4</th>\n",
       "      <td>Thu Apr 09 18:32:45 +0000 2020</td>\n",
       "      <td>1248317943915651075</td>\n",
       "      <td>1248317943915651075</td>\n",
       "      <td>RT @bennyjohnson: After China Virus dies, US s...</td>\n",
       "      <td>False</td>\n",
       "      <td>[0, 140]</td>\n",
       "      <td>{'hashtags': [], 'symbols': [], 'user_mentions...</td>\n",
       "      <td>&lt;a href=\"http://twitter.com/download/iphone\" r...</td>\n",
       "      <td>NaN</td>\n",
       "      <td>None</td>\n",
       "      <td>...</td>\n",
       "      <td>False</td>\n",
       "      <td>False</td>\n",
       "      <td>en</td>\n",
       "      <td>{'created_at': 'Thu Apr 09 14:51:48 +0000 2020...</td>\n",
       "      <td>NaN</td>\n",
       "      <td>NaN</td>\n",
       "      <td>NaN</td>\n",
       "      <td>NaN</td>\n",
       "      <td>NaN</td>\n",
       "      <td>NaN</td>\n",
       "    </tr>\n",
       "  </tbody>\n",
       "</table>\n",
       "<p>5 rows × 31 columns</p>\n",
       "</div>"
      ],
      "text/plain": [
       "                       created_at                   id               id_str  \\\n",
       "0  Thu Apr 09 22:22:30 +0000 2020  1248375762475864065  1248375762475864065   \n",
       "1  Thu Apr 09 22:48:52 +0000 2020  1248382399907377156  1248382399907377156   \n",
       "2  Thu Apr 09 21:24:12 +0000 2020  1248361093002489857  1248361093002489857   \n",
       "3  Thu Apr 09 18:17:03 +0000 2020  1248313996589043712  1248313996589043712   \n",
       "4  Thu Apr 09 18:32:45 +0000 2020  1248317943915651075  1248317943915651075   \n",
       "\n",
       "                                           full_text  truncated  \\\n",
       "0  @ukreloaded James spot on YES CHINA is to blam...      False   \n",
       "1  RT @detikHealth: Gejala Virus Corona Vs Demam ...      False   \n",
       "2  @lynlinking One thing we don’t know yet, is wh...      False   \n",
       "3  RT @MrSpyBR: @CNNBrasil Este Sr. maliciosament...      False   \n",
       "4  RT @bennyjohnson: After China Virus dies, US s...      False   \n",
       "\n",
       "  display_text_range                                           entities  \\\n",
       "0          [12, 290]  {'hashtags': [], 'symbols': [], 'user_mentions...   \n",
       "1           [0, 101]  {'hashtags': [], 'symbols': [], 'user_mentions...   \n",
       "2          [12, 150]  {'hashtags': [], 'symbols': [], 'user_mentions...   \n",
       "3           [0, 140]  {'hashtags': [], 'symbols': [], 'user_mentions...   \n",
       "4           [0, 140]  {'hashtags': [], 'symbols': [], 'user_mentions...   \n",
       "\n",
       "                                              source  in_reply_to_status_id  \\\n",
       "0  <a href=\"http://twitter.com/download/iphone\" r...           1.248368e+18   \n",
       "1  <a href=\"https://mobile.twitter.com\" rel=\"nofo...                    NaN   \n",
       "2  <a href=\"http://twitter.com/#!/download/ipad\" ...           1.248360e+18   \n",
       "3  <a href=\"http://twitter.com/download/android\" ...                    NaN   \n",
       "4  <a href=\"http://twitter.com/download/iphone\" r...                    NaN   \n",
       "\n",
       "  in_reply_to_status_id_str  ...  favorited retweeted lang  \\\n",
       "0       1248368432485203969  ...      False     False   en   \n",
       "1                      None  ...      False     False   in   \n",
       "2       1248359561641091073  ...      False     False   en   \n",
       "3                      None  ...      False     False   pt   \n",
       "4                      None  ...      False     False   en   \n",
       "\n",
       "                                    retweeted_status possibly_sensitive  \\\n",
       "0                                                NaN                NaN   \n",
       "1  {'created_at': 'Thu Apr 09 22:14:05 +0000 2020...              False   \n",
       "2                                                NaN                NaN   \n",
       "3  {'created_at': 'Thu Apr 09 15:39:52 +0000 2020...                NaN   \n",
       "4  {'created_at': 'Thu Apr 09 14:51:48 +0000 2020...                NaN   \n",
       "\n",
       "  quoted_status_id quoted_status_id_str quoted_status_permalink  \\\n",
       "0              NaN                  NaN                     NaN   \n",
       "1              NaN                  NaN                     NaN   \n",
       "2              NaN                  NaN                     NaN   \n",
       "3              NaN                  NaN                     NaN   \n",
       "4              NaN                  NaN                     NaN   \n",
       "\n",
       "   quoted_status  extended_entities  \n",
       "0            NaN                NaN  \n",
       "1            NaN                NaN  \n",
       "2            NaN                NaN  \n",
       "3            NaN                NaN  \n",
       "4            NaN                NaN  \n",
       "\n",
       "[5 rows x 31 columns]"
      ]
     },
     "execution_count": 6,
     "metadata": {},
     "output_type": "execute_result"
    }
   ],
   "source": [
    "path = \"./hydrated/\"\n",
    "files = os.listdir(path)\n",
    "tweets = []\n",
    "for i in files:\n",
    "    if i == \".DS_Store\" or i == \".ipynb_checkpoints\":\n",
    "        continue\n",
    "    tweets_per_file = []\n",
    "    with open(path+i, 'r') as read:\n",
    "        tweets_per_file = json.loads(read.read())\n",
    "    for j in tweets_per_file:\n",
    "        tweets.append(j)\n",
    "print(len(tweets))\n",
    "#tweets to a dataframe\n",
    "df = pd.DataFrame (tweets)\n",
    "df.head()"
   ]
  },
  {
   "cell_type": "markdown",
   "metadata": {},
   "source": [
    "# Below is the average number of characters in the text"
   ]
  },
  {
   "cell_type": "code",
   "execution_count": 7,
   "metadata": {},
   "outputs": [
    {
     "data": {
      "text/plain": [
       "<matplotlib.axes._subplots.AxesSubplot at 0x121d21b70>"
      ]
     },
     "execution_count": 7,
     "metadata": {},
     "output_type": "execute_result"
    },
    {
     "data": {
      "image/png": "[encoded data removed]",
      "text/plain": [
       "<Figure size 432x288 with 1 Axes>"
      ]
     },
     "metadata": {
      "needs_background": "light"
     },
     "output_type": "display_data"
    }
   ],
   "source": [
    "df['full_text'].str.len().hist()"
   ]
  },
  {
   "cell_type": "markdown",
   "metadata": {},
   "source": [
    "# sentiment"
   ]
  },
  {
   "cell_type": "code",
   "execution_count": 8,
   "metadata": {},
   "outputs": [
    {
     "data": {
      "text/plain": [
       "0.07"
      ]
     },
     "execution_count": 8,
     "metadata": {},
     "output_type": "execute_result"
    }
   ],
   "source": [
    "#this is probably not very usefull.... at all\n",
    "polarity = 0\n",
    "list_of_tweets = df['full_text'].tolist()\n",
    "for i in list_of_tweets:\n",
    "    polarity += TextBlob(i).sentiment.polarity\n",
    "round(polarity/len(list_of_tweets)*100)/100"
   ]
  },
  {
   "cell_type": "code",
   "execution_count": 9,
   "metadata": {},
   "outputs": [
    {
     "name": "stdout",
     "output_type": "stream",
     "text": [
      "Looks likes the majority is in the positive... well just over\n"
     ]
    },
    {
     "data": {
      "image/png": "[encoded data removed]",
      "text/plain": [
       "<Figure size 432x288 with 1 Axes>"
      ]
     },
     "metadata": {
      "needs_background": "light"
     },
     "output_type": "display_data"
    }
   ],
   "source": [
    "def get_sent(text):\n",
    "    return TextBlob(text).sentiment.polarity\n",
    "\n",
    "tweet_senti_values = df['full_text'].apply(lambda x : get_sent(x))\n",
    "tweet_senti_values.hist()\n",
    "print(\"Looks likes the majority is in the positive... well just over\")"
   ]
  },
  {
   "cell_type": "code",
   "execution_count": 10,
   "metadata": {},
   "outputs": [
    {
     "name": "stdout",
     "output_type": "stream",
     "text": [
      "can we assume that this is wrong\n"
     ]
    },
    {
     "data": {
      "image/png": "[encoded data removed]",
      "text/plain": [
       "<Figure size 432x288 with 1 Axes>"
      ]
     },
     "metadata": {
      "needs_background": "light"
     },
     "output_type": "display_data"
    }
   ],
   "source": [
    "def sentiment(x):\n",
    "    if x<0:\n",
    "        return 'neg'\n",
    "    elif x==0:\n",
    "        return 'neu'\n",
    "    else:\n",
    "        return 'pos' \n",
    "    \n",
    "tweet_senti_values_polarity = tweet_senti_values.map(lambda x: sentiment(x))\n",
    "#tweet_senti_values_polarity.head()\n",
    "plt.bar(tweet_senti_values_polarity.value_counts().index, tweet_senti_values_polarity.value_counts()) \n",
    "print(\"can we assume that this is wrong\")"
   ]
  },
  {
   "cell_type": "markdown",
   "metadata": {},
   "source": [
    "# Download stop words (we will add more words later)"
   ]
  },
  {
   "cell_type": "code",
   "execution_count": 11,
   "metadata": {},
   "outputs": [
    {
     "name": "stderr",
     "output_type": "stream",
     "text": [
      "[nltk_data] Downloading package stopwords to\n",
      "[nltk_data]     /Users/tomashegewisch/nltk_data...\n",
      "[nltk_data]   Package stopwords is already up-to-date!\n"
     ]
    }
   ],
   "source": [
    "nltk.download('stopwords')\n",
    "stop = set(stopwords.words('english'))"
   ]
  },
  {
   "cell_type": "code",
   "execution_count": 12,
   "metadata": {},
   "outputs": [],
   "source": [
    "corpus = []\n",
    "new = df['full_text'].str.split()\n",
    "new = new.values.tolist()\n",
    "corpus = [word for i in new for word in i]\n",
    "\n",
    "dic = defaultdict(int)\n",
    "for word in corpus:\n",
    "    if word in stop:\n",
    "        dic[word] += 1"
   ]
  },
  {
   "cell_type": "code",
   "execution_count": 13,
   "metadata": {},
   "outputs": [
    {
     "name": "stdout",
     "output_type": "stream",
     "text": [
      "The most popular words, not very importnat we must remove stop words\n"
     ]
    },
    {
     "data": {
      "image/png": "[encoded data removed]",
      "text/plain": [
       "<Figure size 432x288 with 1 Axes>"
      ]
     },
     "metadata": {
      "needs_background": "light"
     },
     "output_type": "display_data"
    }
   ],
   "source": [
    "top = sorted(dic.items(), key=lambda x:x[1],reverse=True)[:10] \n",
    "x,y = zip(*top)\n",
    "plt.bar(x,y)\n",
    "print(\"The most popular words, not very importnat we must remove stop words\")"
   ]
  },
  {
   "cell_type": "code",
   "execution_count": null,
   "metadata": {},
   "outputs": [],
   "source": []
  },
  {
   "cell_type": "code",
   "execution_count": 14,
   "metadata": {},
   "outputs": [
    {
     "name": "stdout",
     "output_type": "stream",
     "text": [
      "('China', 130)\n",
      "('Wuhan', 95)\n",
      "('corona', 94)\n",
      "('Virus', 61)\n",
      "('Corona', 61)\n",
      "('people', 61)\n",
      "('Chinese', 44)\n",
      "('asked', 43)\n",
      "('since', 42)\n",
      "('This', 42)\n",
      "('scared', 39)\n",
      "('infected', 38)\n",
      "('like', 37)\n",
      "('airport', 37)\n",
      "('high', 37)\n",
      "('@maddieegwynette:', 36)\n",
      "('Starbucks', 36)\n",
      "('worker', 36)\n",
      "('KKIA', 36)\n",
      "('alert', 36)\n"
     ]
    },
    {
     "data": {
      "image/png": "[encoded data removed]",
      "text/plain": [
       "<Figure size 432x288 with 1 Axes>"
      ]
     },
     "metadata": {
      "needs_background": "light"
     },
     "output_type": "display_data"
    }
   ],
   "source": [
    "#from collections import  Counter (this is what it is using)\n",
    "counter = Counter(corpus)\n",
    "mostCommonWords = counter.most_common()\n",
    "x, y = [], []\n",
    "\n",
    "# we have to add the below because ya... we do not want RT -> obs \n",
    "stop.add(\"RT\")\n",
    "stop.add(\"The\")\n",
    "stop.add(\"new\")\n",
    "stop.add(\"-\")\n",
    "stop.add(\"I\")\n",
    "stop.add(\".\")\n",
    "stop.add(\"virus\")\n",
    "\n",
    "#mostCommonWords[:40]\n",
    "\n",
    "for word, count in mostCommonWords[:60]:\n",
    "    if (word not in stop):\n",
    "        x.append(word)\n",
    "        y.append(count)\n",
    "sns.barplot (x = y, y = x)\n",
    "\n",
    "for i in zip(x,y):\n",
    "    print(i)\n",
    "    \n",
    "#https://twitter.com/maddieegwynette?lang=en some random twitter profile...i wonder why this is the case"
   ]
  },
  {
   "cell_type": "markdown",
   "metadata": {},
   "source": [
    "# Named Entity Recognition"
   ]
  },
  {
   "cell_type": "code",
   "execution_count": 15,
   "metadata": {},
   "outputs": [
    {
     "data": {
      "text/plain": [
       "[('South Africa', 'GPE'), ('Canada', 'GPE'), ('next thursday', 'DATE')]"
      ]
     },
     "execution_count": 15,
     "metadata": {},
     "output_type": "execute_result"
    }
   ],
   "source": [
    "#YOU MUST FIRST RUN THIS COMMAND python3 -m spacy download en_core_web_sm\n",
    "# nlp = spacy.load(\"en_core_web_sm\") -> this command does not seem to work(stck over flow  and below wrk)\n",
    "nlp = spacy.load('en')\n",
    "doc = nlp('South Africa and Canada are going to talk next thursday')\n",
    "[(x.text,x.label_) for x in doc.ents]\n",
    "#displacy.render(doc, style='ent')"
   ]
  },
  {
   "cell_type": "code",
   "execution_count": 16,
   "metadata": {},
   "outputs": [
    {
     "data": {
      "text/plain": [
       "<matplotlib.axes._subplots.AxesSubplot at 0x126deef60>"
      ]
     },
     "execution_count": 16,
     "metadata": {},
     "output_type": "execute_result"
    },
    {
     "data": {
      "image/png": "[encoded data removed]",
      "text/plain": [
       "<Figure size 432x288 with 1 Axes>"
      ]
     },
     "metadata": {
      "needs_background": "light"
     },
     "output_type": "display_data"
    }
   ],
   "source": [
    "def ner(text):\n",
    "    doc = nlp(text)\n",
    "    return [X.label_ for X in doc.ents]\n",
    "\n",
    "ent = df['full_text'].apply(lambda x : ner(x))\n",
    "ent = [x for sub in ent for x in sub]\n",
    "counter = Counter(ent)\n",
    "counter\n",
    "count = counter.most_common()\n",
    "x,y=map(list,zip(*count))\n",
    "sns.barplot(x=y,y=x)"
   ]
  },
  {
   "cell_type": "code",
   "execution_count": 17,
   "metadata": {},
   "outputs": [
    {
     "data": {
      "image/png": "[encoded data removed]",
      "text/plain": [
       "<Figure size 432x288 with 1 Axes>"
      ]
     },
     "metadata": {
      "needs_background": "light"
     },
     "output_type": "display_data"
    }
   ],
   "source": [
    "def display(ents):\n",
    "    def ner(text,ent=ents):\n",
    "        doc = nlp(text)\n",
    "        return [X.text for X in doc.ents if X.label_ == ent]\n",
    "\n",
    "    gpe = df['full_text'].apply(lambda x: ner(x))\n",
    "    gpe = [i for x in gpe for i in x]\n",
    "    counter = Counter(gpe)\n",
    "    x,y=map(list,zip(*counter.most_common(10)))\n",
    "    sns.barplot(y,x)\n",
    "\n",
    "display(\"GPE\")\n",
    "#display(\"ORG\")\n",
    "#display(\"PERSON\") # this does not work so well, it think corona is a person\n",
    "#display(\"CARDINAL\")\n",
    "#display(\"DATE\")\n",
    "#display(\"NORP\")\n",
    "#display(\"MONEY\") # nor does this work at all...\n",
    "#display(\"LOC\")"
   ]
  },
  {
   "cell_type": "markdown",
   "metadata": {},
   "source": [
    "# Domains"
   ]
  },
  {
   "cell_type": "code",
   "execution_count": 18,
   "metadata": {},
   "outputs": [
    {
     "data": {
      "text/plain": [
       "['https://www.google.com']"
      ]
     },
     "execution_count": 18,
     "metadata": {},
     "output_type": "execute_result"
    }
   ],
   "source": [
    "# https://www.geeksforgeeks.org/python-check-url-string/\n",
    "#GrOss Regex \n",
    "def find(string): \n",
    "    # findall() has been used  \n",
    "    # with valid conditions for urls in string \n",
    "    regex = r\"(?i)\\b((?:https?://|www\\d{0,3}[.]|[a-z0-9.\\-]+[.][a-z]{2,4}/)(?:[^\\s()<>]+|\\(([^\\s()<>]+|(\\([^\\s()<>]+\\)))*\\))+(?:\\(([^\\s()<>]+|(\\([^\\s()<>]+\\)))*\\)|[^\\s`!()\\[\\]{};:'\\\".,<>?«»“”‘’]))\"\n",
    "    url = re.findall(regex,string)       \n",
    "    return [x[0] for x in url]\n",
    "find(\"I love to use this website when i am working with code https://www.geeksforgeeks.org/python-check-url-string/\")\n",
    "#twitter compressing the URL in their Tweets...\n",
    "tweet_urls_tiny = []\n",
    "for i in df['full_text'].values.tolist():\n",
    "    temp = find(i)\n",
    "    if temp != []:\n",
    "        for i in temp:\n",
    "            tweet_urls_tiny.append(i)\n",
    "# THIS IS NOT NEEDED AS TWITTER STORES THE DOMAINS IN A FEILD>>>\n",
    "find(\"jhkwqjdhkqjwhdqwdjhqwd jqlwdkjqlwkjd https://www.google.com gldglqwdhgqwdqwjdhjwhdqjwhdgqjwhdgqhjwdgqdhjwgjqhwd\")"
   ]
  },
  {
   "cell_type": "code",
   "execution_count": 19,
   "metadata": {},
   "outputs": [
    {
     "data": {
      "application/vnd.jupyter.widget-view+json": {
       "model_id": "ebb02ff84f014ba8a8e5b1c289881c3a",
       "version_major": 2,
       "version_minor": 0
      },
      "text/plain": [
       "HBox(children=(FloatProgress(value=0.0, max=120.0), HTML(value='')))"
      ]
     },
     "metadata": {},
     "output_type": "display_data"
    },
    {
     "name": "stdout",
     "output_type": "stream",
     "text": [
      "\n",
      "6 https://www.reuters.com/article/us-china-health-vaccines-idUSKBN1ZN2J8?taid=5e2b7f18ebed6f0001a55273&utm_campaign=trueAnthem:+Trending+Content&utm_medium=trueAnthem&utm_source=twitter\n",
      "\n",
      "5 https://go.shr.lc/38J7yPD\n",
      "\n",
      "4 https://vilabin.com/article/what-is-sircam-virus-and-how-its-legacy-began/\n",
      "\n",
      "2 https://www.breitbart.com/national-security/2020/01/24/china-confirms-wuhan-virus-infections-provinces/\n",
      "\n",
      "2 https://www.zerohedge.com/geopolitical/please-help-us-supply-shortages-rock-wuhan-outbreak-overwhelms-chinese-healthcare\n",
      "\n",
      "2 https://www.dailymail.co.uk/health/article-7923913/Shanghai-Disney-closed-Saturday-help-prevent-spread-virus.html\n",
      "\n",
      "2 https://news.yahoo.com/time-im-scared-experts-fear-too-china-virus-103855664.html\n",
      "\n",
      "2 https://www.cnbc.com/2020/01/24/shanghai-disney-shuts-to-prevent-spread-of-virus.html?__source=twitter|main\n",
      "\n",
      "2 https://foreignpolicy.com/2020/01/24/wuhan-virus-china-belt-and-road-pandemic/\n",
      "\n",
      "1 https://noticiabrasilonline.com/willian-waack-que-nao-tem-amarras-politicas-encurrala-rodrigo-maia-em-entrevista-na-cnn/\n",
      "\n"
     ]
    },
    {
     "data": {
      "image/png": "[encoded data removed]",
      "text/plain": [
       "<Figure size 432x288 with 1 Axes>"
      ]
     },
     "metadata": {
      "needs_background": "light"
     },
     "output_type": "display_data"
    }
   ],
   "source": [
    "#https://stackoverflow.com/questions/44113335/extract-domain-from-url-in-python\n",
    "#https://stackoverflow.com/questions/4201062/how-can-i-unshorten-a-url\n",
    "#https://www.washingtontimes.com/ is \n",
    "def unshorten_url(url):\n",
    "    parsed = urlp.urlparse(url)\n",
    "    h = httplib.HTTPConnection(parsed.netloc)\n",
    "    h.request('HEAD', parsed.path)\n",
    "    response = h.getresponse()\n",
    "    if response.status//100 == 3 and response.getheader('Location'):\n",
    "        return response.getheader('Location')\n",
    "    else:\n",
    "        return url\n",
    "\n",
    "list_df = df[\"entities\"].tolist()\n",
    "full_urls_list = []\n",
    "just_domain_name = []\n",
    "top_pages = []\n",
    "for i in list_df:\n",
    "    for j in i[\"urls\"]:\n",
    "        full_urls_list.append(j[\"expanded_url\"])\n",
    "        \n",
    "for i in tqdm(full_urls_list):\n",
    "    if \"twitter\" in i:\n",
    "        continue\n",
    "    temp = unshorten_url(i)\n",
    "    just_domain_name.append(urlparse(temp).netloc)\n",
    "    top_pages.append(temp)\n",
    "    \n",
    "counter_domain = Counter(just_domain_name)\n",
    "counter = Counter(top_pages) \n",
    "\n",
    "x,y=map(list,zip(*counter_domain.most_common(20)))\n",
    "sns.barplot(y,x)\n",
    "\n",
    "n,c=map(list,zip(*counter.most_common(10)))\n",
    "for i in zip (n,c):\n",
    "    print(str(i[1]) + \" \" + str(i[0])+\"\\n\")   \n",
    "#x"
   ]
  },
  {
   "cell_type": "code",
   "execution_count": null,
   "metadata": {},
   "outputs": [],
   "source": []
  },
  {
   "cell_type": "markdown",
   "metadata": {},
   "source": [
    "# Reading ease \n",
    "### not sure how usefull this is"
   ]
  },
  {
   "cell_type": "code",
   "execution_count": 20,
   "metadata": {},
   "outputs": [
    {
     "data": {
      "image/png": "[encoded data removed]",
      "text/plain": [
       "<Figure size 432x288 with 1 Axes>"
      ]
     },
     "metadata": {
      "needs_background": "light"
     },
     "output_type": "display_data"
    }
   ],
   "source": [
    "df[\"full_text\"].apply(lambda x : flesch_reading_ease(x)).hist()\n",
    "reading = df[\"full_text\"].apply(lambda x : flesch_reading_ease(x))"
   ]
  },
  {
   "cell_type": "markdown",
   "metadata": {},
   "source": [
    "# POS tagging"
   ]
  },
  {
   "cell_type": "code",
   "execution_count": 21,
   "metadata": {},
   "outputs": [
    {
     "name": "stderr",
     "output_type": "stream",
     "text": [
      "[nltk_data] Downloading package averaged_perceptron_tagger to\n",
      "[nltk_data]     /Users/tomashegewisch/nltk_data...\n",
      "[nltk_data]   Package averaged_perceptron_tagger is already up-to-\n",
      "[nltk_data]       date!\n"
     ]
    },
    {
     "data": {
      "text/plain": [
       "True"
      ]
     },
     "execution_count": 21,
     "metadata": {},
     "output_type": "execute_result"
    }
   ],
   "source": [
    "nltk.download('averaged_perceptron_tagger')"
   ]
  },
  {
   "cell_type": "code",
   "execution_count": 22,
   "metadata": {},
   "outputs": [],
   "source": [
    "# sentence=\"The greatest comeback stories in 2019\"\n",
    "# tokens = word_tokenize(sentence)\n",
    "# nltk.pos_tag(tokens)\n",
    "# doc = nlp('Corona virus is the worst thing to happen to most people in this world')\n",
    "# displacy.render(doc, style='dep', jupyter=True, options={'distance': 90})\n"
   ]
  },
  {
   "cell_type": "code",
   "execution_count": 23,
   "metadata": {},
   "outputs": [
    {
     "data": {
      "text/plain": [
       "<matplotlib.axes._subplots.AxesSubplot at 0x130d36e48>"
      ]
     },
     "execution_count": 23,
     "metadata": {},
     "output_type": "execute_result"
    },
    {
     "data": {
      "image/png": "[encoded data removed]",
      "text/plain": [
       "<Figure size 432x288 with 1 Axes>"
      ]
     },
     "metadata": {
      "needs_background": "light"
     },
     "output_type": "display_data"
    }
   ],
   "source": [
    "def pos(text):\n",
    "    pos=nltk.pos_tag(word_tokenize(text))\n",
    "    pos=list(map(list,zip(*pos)))[1]\n",
    "    return pos\n",
    "\n",
    "tags = df[\"full_text\"].apply(lambda x : pos(x))\n",
    "tags = [x for l in tags for x in l]\n",
    "counter = Counter(tags)\n",
    "\n",
    "x,y=list(map(list,zip(*counter.most_common(7))))\n",
    "sns.barplot(x=y,y=x)"
   ]
  },
  {
   "cell_type": "code",
   "execution_count": 24,
   "metadata": {},
   "outputs": [
    {
     "data": {
      "text/plain": [
       "<matplotlib.axes._subplots.AxesSubplot at 0x130e0b0f0>"
      ]
     },
     "execution_count": 24,
     "metadata": {},
     "output_type": "execute_result"
    },
    {
     "data": {
      "image/png": "[encoded data removed]",
      "text/plain": [
       "<Figure size 432x288 with 1 Axes>"
      ]
     },
     "metadata": {
      "needs_background": "light"
     },
     "output_type": "display_data"
    }
   ],
   "source": [
    "def get_adjs(text):\n",
    "    adj=[]\n",
    "    pos=nltk.pos_tag(word_tokenize(text))\n",
    "    for word,tag in pos:\n",
    "        if tag=='NN':\n",
    "            adj.append(word)\n",
    "    return adj\n",
    "\n",
    "words = df[\"full_text\"].apply(lambda x : get_adjs(x))\n",
    "words = [x for l in words for x in l]\n",
    "counter = Counter(words)\n",
    "\n",
    "x,y=list(map(list,zip(*counter.most_common(7))))\n",
    "sns.barplot(x=y,y=x)"
   ]
  },
  {
   "cell_type": "code",
   "execution_count": 64,
   "metadata": {},
   "outputs": [
    {
     "name": "stdout",
     "output_type": "stream",
     "text": [
      "There are 17254 words in this data set and there are 4760 Unique words*\n"
     ]
    }
   ],
   "source": [
    "each_word_in_df = df['full_text'].str.split().tolist()\n",
    "words = [x for l in each_word_in_df for x in l]\n",
    "count_machine = Counter(words)\n",
    "print(\"There are \"+str(len(words))+\" words in this data set and there are \"+str(len(count_machine.keys()))+\" Unique words*\")"
   ]
  },
  {
   "cell_type": "code",
   "execution_count": null,
   "metadata": {},
   "outputs": [],
   "source": []
  }
 ],
 "metadata": {
  "kernelspec": {
   "display_name": "Python 3",
   "language": "python",
   "name": "python3"
  },
  "language_info": {
   "codemirror_mode": {
    "name": "ipython",
    "version": 3
   },
   "file_extension": ".py",
   "mimetype": "text/x-python",
   "name": "python",
   "nbconvert_exporter": "python",
   "pygments_lexer": "ipython3",
   "version": "3.7.0"
  }
 },
 "nbformat": 4,
 "nbformat_minor": 4
}

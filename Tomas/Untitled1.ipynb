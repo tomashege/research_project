{
 "cells": [
  {
   "cell_type": "code",
   "execution_count": 5,
   "metadata": {},
   "outputs": [],
   "source": [
    "import feedparser \n",
    "import ssl\n",
    "ssl._create_default_https_context = ssl._create_unverified_context\n",
    "python_wiki_rss_url = \"https://feeds.redbull.tv/joyn\" \n",
    "feed = feedparser.parse(python_wiki_rss_url)"
   ]
  },
  {
   "cell_type": "code",
   "execution_count": 71,
   "metadata": {},
   "outputs": [
    {
     "name": "stdout",
     "output_type": "stream",
     "text": [
      "238\n"
     ]
    }
   ],
   "source": [
    "with open(\"redbull.csv\", \"w\")as text_file:\n",
    "    text_file.write(\"\")\n",
    "out = 'media_title, guid, videoID\\n'\n",
    "temp = []\n",
    "demp = []\n",
    "for i in feed['entries']:\n",
    "    try:\n",
    "        guid = i['id']\n",
    "    except:\n",
    "        guid = 'id not foudn'\n",
    "    try:\n",
    "        media_title = i['title']\n",
    "        if media_title == \"Ultimate Rush\":\n",
    "            temp = i\n",
    "        if media_title == \"Mosaik Diaries\":\n",
    "            demp = i\n",
    "\n",
    "    except:\n",
    "        media_title = 'media_title not found'\n",
    "    try:\n",
    "        videoID = i['videoid']\n",
    "    except:\n",
    "        videoID = 'vid id not found'\n",
    "        \n",
    "    media_title = media_title.replace('\"', \" \")\n",
    "    media_title = media_title.replace(',', \" \")\n",
    "\n",
    "    out += media_title + ',' + guid +','+ videoID + '\\n'\n",
    "\n",
    "with open(\"redbull.csv\", \"w\")as text_file:\n",
    "     text_file.write(out)\n",
    "print(len(feed['entries']))"
   ]
  },
  {
   "cell_type": "code",
   "execution_count": 73,
   "metadata": {},
   "outputs": [
    {
     "data": {
      "text/plain": [
       "{'id': 'rrn:content:shows:446aebc5-1acf-5757-98ea-b5e39c4b20a5',\n",
       " 'guidislink': True,\n",
       " 'link': 'rrn:content:shows:446aebc5-1acf-5757-98ea-b5e39c4b20a5',\n",
       " 'published': '2016-01-01T00:00:00',\n",
       " 'published_parsed': time.struct_time(tm_year=2016, tm_mon=1, tm_mday=1, tm_hour=0, tm_min=0, tm_sec=0, tm_wday=4, tm_yday=1, tm_isdst=0),\n",
       " 'title': 'Ultimate Rush',\n",
       " 'title_detail': {'type': 'text/plain',\n",
       "  'language': None,\n",
       "  'base': 'https://feeds.redbull.tv/joyn',\n",
       "  'value': 'Ultimate Rush'},\n",
       " 'summary': 'Why do athletes risk their lives doing what they love to do? The ultimate action sports stars team up with select entertainment industry filmmakers to create professional-grade Hollywood storytelling that answers the question in high cinematic style.',\n",
       " 'summary_detail': {'type': 'text/html',\n",
       "  'language': None,\n",
       "  'base': 'https://feeds.redbull.tv/joyn',\n",
       "  'value': 'Why do athletes risk their lives doing what they love to do? The ultimate action sports stars team up with select entertainment industry filmmakers to create professional-grade Hollywood storytelling that answers the question in high cinematic style.'},\n",
       " 'content': [{'type': 'text/plain',\n",
       "   'language': None,\n",
       "   'base': 'https://feeds.redbull.tv/joyn',\n",
       "   'value': 'Why do athletes risk their lives doing what they love to do? The ultimate action sports stars team up with select entertainment industry filmmakers to create professional-grade Hollywood storytelling that answers the question in high cinematic style.'}],\n",
       " 'media_rating': {'source': 'FSF', 'content': '12'},\n",
       " 'rating': '12',\n",
       " 'media_keywords': 'action sports, sports event, snowboarding, alpine skiing, skiing, skateboarding, adventure',\n",
       " 'tags': [{'term': 'action sports', 'scheme': None, 'label': None},\n",
       "  {'term': 'sports event', 'scheme': None, 'label': None},\n",
       "  {'term': 'snowboarding', 'scheme': None, 'label': None},\n",
       "  {'term': 'alpine skiing', 'scheme': None, 'label': None},\n",
       "  {'term': 'skiing', 'scheme': None, 'label': None},\n",
       "  {'term': 'skateboarding', 'scheme': None, 'label': None},\n",
       "  {'term': 'adventure', 'scheme': None, 'label': None}],\n",
       " 'validity': 'start=2016-01-01T00:00:00.000Z; end=2071-10-10T00:00:00.000Z; scheme=W3C DTF;',\n",
       " 'validity_start': '2016-01-01T00:00:00.000Z',\n",
       " 'validity_start_parsed': time.struct_time(tm_year=2016, tm_mon=1, tm_mday=1, tm_hour=0, tm_min=0, tm_sec=0, tm_wday=4, tm_yday=1, tm_isdst=0),\n",
       " 'media_thumbnail': [{'url': 'https://resources.redbull.tv/rrn:content:shows:446aebc5-1acf-5757-98ea-b5e39c4b20a5/rbtv_cover_art_landscape/im:i:w_860,h_646,c_fill',\n",
       "   'width': '860',\n",
       "   'height': '646',\n",
       "   'type': 'primary'},\n",
       "  {'url': 'https://resources.redbull.tv/rrn:content:shows:446aebc5-1acf-5757-98ea-b5e39c4b20a5/rbtv_cover_art_landscape/im:i:w_1920,h_1080,c_fill',\n",
       "   'width': '1920',\n",
       "   'height': '1080',\n",
       "   'type': 'hero_landscape'},\n",
       "  {'url': 'https://resources.redbull.tv/rrn:content:shows:446aebc5-1acf-5757-98ea-b5e39c4b20a5/rbtv_cover_art_portrait/im:i:w_750,h_1040,c_fill',\n",
       "   'width': '750',\n",
       "   'height': '1040',\n",
       "   'type': 'hero_portrait'},\n",
       "  {'url': 'https://resources.redbull.tv/rrn:content:shows:446aebc5-1acf-5757-98ea-b5e39c4b20a5/rbtv_background_landscape/im:i:w_1920,h_1080,c_fill',\n",
       "   'width': '1920',\n",
       "   'height': '1080',\n",
       "   'type': 'video_still'}],\n",
       " 'href': '',\n",
       " 'type': 'series',\n",
       " 'originalpremieredate': '2016-01-01',\n",
       " 'tvshowinfo': ''}"
      ]
     },
     "execution_count": 73,
     "metadata": {},
     "output_type": "execute_result"
    }
   ],
   "source": [
    "temp"
   ]
  },
  {
   "cell_type": "code",
   "execution_count": null,
   "metadata": {},
   "outputs": [],
   "source": []
  }
 ],
 "metadata": {
  "kernelspec": {
   "display_name": "Python 3",
   "language": "python",
   "name": "python3"
  },
  "language_info": {
   "codemirror_mode": {
    "name": "ipython",
    "version": 3
   },
   "file_extension": ".py",
   "mimetype": "text/x-python",
   "name": "python",
   "nbconvert_exporter": "python",
   "pygments_lexer": "ipython3",
   "version": "3.8.5"
  }
 },
 "nbformat": 4,
 "nbformat_minor": 4
}

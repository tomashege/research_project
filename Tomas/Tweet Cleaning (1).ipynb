{
 "cells": [
  {
   "cell_type": "code",
   "execution_count": 1,
   "metadata": {},
   "outputs": [],
   "source": [
    "import pandas as pd\n",
    "import unidecode\n",
    "import string\n",
    "import sklearn.feature_extraction\n",
    "import itertools"
   ]
  },
  {
   "cell_type": "code",
   "execution_count": 2,
   "metadata": {},
   "outputs": [],
   "source": [
    "rm_punc = str.maketrans(string.punctuation, ' ' * len(string.punctuation))\n",
    "stop_words = sklearn.feature_extraction.text.ENGLISH_STOP_WORDS"
   ]
  },
  {
   "cell_type": "code",
   "execution_count": 3,
   "metadata": {},
   "outputs": [],
   "source": [
    "tweets = pd.read_json('030110/EC443_20200309.json', lines=True, orient='record')\n",
    "\n",
    "pd.set_option('display.max_rows', tweets.shape[0]+1)"
   ]
  },
  {
   "cell_type": "code",
   "execution_count": 4,
   "metadata": {},
   "outputs": [
    {
     "name": "stdout",
     "output_type": "stream",
     "text": [
      "BEFORE\n",
      "75\n",
      "\n",
      "AFTER\n",
      "75\n"
     ]
    }
   ],
   "source": [
    "print(\"BEFORE\")\n",
    "print(len(tweets))\n",
    "tweets.drop_duplicates(subset=['id'], keep=\"first\", inplace=True)\n",
    "print(\"\\nAFTER\")\n",
    "print(len(tweets))"
   ]
  },
  {
   "cell_type": "code",
   "execution_count": 5,
   "metadata": {},
   "outputs": [
    {
     "data": {
      "text/plain": [
       "Index(['id', 'conversation_id', 'created_at', 'date', 'time', 'timezone',\n",
       "       'user_id', 'username', 'name', 'place', 'tweet', 'mentions', 'urls',\n",
       "       'photos', 'replies_count', 'retweets_count', 'likes_count', 'hashtags',\n",
       "       'cashtags', 'link', 'retweet', 'quote_url', 'video', 'near', 'geo',\n",
       "       'source', 'user_rt_id', 'user_rt', 'retweet_id', 'reply_to',\n",
       "       'retweet_date', 'translate', 'trans_src', 'trans_dest'],\n",
       "      dtype='object')"
      ]
     },
     "execution_count": 5,
     "metadata": {},
     "output_type": "execute_result"
    }
   ],
   "source": [
    "tweets.columns"
   ]
  },
  {
   "cell_type": "code",
   "execution_count": 6,
   "metadata": {},
   "outputs": [
    {
     "data": {
      "text/plain": [
       "0                             I have observed that too,\n",
       "1                                                 Rosie\n",
       "2           True o my baby Resa don enter Iyke’s ribs🤣🤣\n",
       "3                          Say that again bru😂😂😂😂😂😂😂😂😂😂\n",
       "4     Kayode go back to the ladies room please am on...\n",
       "5     I didn’t 🤪🤪 couldn’t even move a finger was gl...\n",
       "6                Goodnight♥️ pic.twitter.com/bYkfckzXsd\n",
       "7     See that’s what am talking about, Iyke my guy ...\n",
       "8     Time flies,  to many more months that will lea...\n",
       "9     Do  you mind to share via whattsApp? https://t...\n",
       "10    Kayode is an idiot, why remove the camera away...\n",
       "11                    Syazifanela njeke lapho mtaka mah\n",
       "12                                                 😂😂😂😂\n",
       "13                                                   🤣🤣\n",
       "14    I thought she was joking, then why allow them ...\n",
       "15    Let take a nap, someone wake me up when they a...\n",
       "16                                              I swear\n",
       "17            😂😂😂😂. I recieve mntakamama. Andiyiki mfo.\n",
       "18    Eeh this our Iyke can read minds, OUR minds I ...\n",
       "19           Stupid Kayode has to move the camera away😡\n",
       "20    The vibe in that kitchen today ehh the under 2...\n",
       "21    🤣🤣 this love is not for faint hearted like you...\n",
       "22                                       @DownloaderBot\n",
       "23    Love this movie.. and love all of @markwahlber...\n",
       "24    Someone died of Asthma and I think Im scared.....\n",
       "25    Sing for your supper Wena Mlungisi😂 https://tw...\n",
       "26    I guess. 😊 https://twitter.com/switflav/status...\n",
       "27                                            Oh NO!!!!\n",
       "28    I guess this is the adulting part they never t...\n",
       "29    Not even a single person except my Mom has ask...\n",
       "30    No. Being OLD is dangerous. https://twitter.co...\n",
       "31    So funny!!! https://twitter.com/_cavii_/status...\n",
       "32    Yheni baby girl will soon swallow Iyke ,so to ...\n",
       "33    Amazing and this dress is everything 😍😍😍... Co...\n",
       "34             Thank love for the info keep it coming 😘\n",
       "35    You are doing perfectly reporting on the groun...\n",
       "36                          I trust your imagination 🤣🤣\n",
       "37       That’s all wanted, to know what’s up with them\n",
       "38    There you posted na, now I know they are sleep...\n",
       "39                                     Now you tell me🙃\n",
       "40                                          @owen_ncane\n",
       "41    Iykeresa’s day shift shipmates are very stingy...\n",
       "42    Unkulunkulu ungumdali indalo ingubufakazi @ Ma...\n",
       "43    @CyrilRamaphosa in his maiden 2019 SoNA speech...\n",
       "44    Plants at Stephward Estate exotic plant nurser...\n",
       "45    Plants at Stephward Estate exotic plant nurser...\n",
       "46    Philodendron Plants for sale at Stephward Esta...\n",
       "47    Ninama arguments amnandi kodwa Lerato yaz http...\n",
       "48    Subscribe to our YouTube channel!\\n\\n#aliwalsh...\n",
       "49    Subsscribe to my YouTube channel! https://yout...\n",
       "50               Don’t be stingy with videos today abeg\n",
       "51    But we are capable of voting our babies alone ...\n",
       "52    Her parents must be investigated how they obta...\n",
       "53    Painting for sale soon!\\n(Work in Progess)\\n\\n...\n",
       "54    They don’t have to raise anything but continue...\n",
       "55    Going out inabantu bayo and mina I’m not one o...\n",
       "56    Happy Monday everyone!\\n\\nThanks for following...\n",
       "57    Aliwal Shoal\\n\\nUnderwater National Park\\n\\nLe...\n",
       "58                      Liquids and food. Plus bed rest\n",
       "59            You are paranoid, they were in good terms\n",
       "60    No none of that happened, they were in good te...\n",
       "61    What is Resa still doing in her bed alone 😒😒, ...\n",
       "62    Some of our exotic plants that are for sale at...\n",
       "63    Some of our exotic plants that are for sale at...\n",
       "64    Some of our exotic plants that are for sale at...\n",
       "65                   I have just received great news😭😭😭\n",
       "66    🤭🤭🤭😁😁😁 #sjava #ladyzamar https://twitter.com/T...\n",
       "67                  Chelsea and Everton it was same old\n",
       "68    My point exactly, if they did continue after t...\n",
       "69    Are you ready!!🔥\\n\\nBook your tickets now at  ...\n",
       "70    Spot on bruh, same as Jon Jones against Reyes....\n",
       "71    😂😂 will follow you soon. pic.twitter.com/E5uHp...\n",
       "72                                                  Aba\n",
       "73         pic.twitter.com/DQ5IaXz522 – at Manaba Beach\n",
       "74                               Was saying follow back\n",
       "Name: tweet, dtype: object"
      ]
     },
     "execution_count": 6,
     "metadata": {},
     "output_type": "execute_result"
    }
   ],
   "source": [
    "tweets['tweet']"
   ]
  },
  {
   "cell_type": "code",
   "execution_count": 7,
   "metadata": {},
   "outputs": [
    {
     "data": {
      "text/plain": [
       "'Say that again bru😂😂😂😂😂😂😂😂😂😂'"
      ]
     },
     "execution_count": 7,
     "metadata": {},
     "output_type": "execute_result"
    }
   ],
   "source": [
    "tweets['tweet'][3]"
   ]
  },
  {
   "cell_type": "code",
   "execution_count": 8,
   "metadata": {},
   "outputs": [],
   "source": [
    "def clean_tweet_word(word):\n",
    "    if (len(word) > 1) and (word[0] == '#' or word[0] == '@'):\n",
    "        return word[0] + word[1:].translate(rm_punc).strip()\n",
    "    if word.startswith('http') or word.startswith('pic.twitter.com') or word.endswith('.com') or word.endswith('.co.za'):\n",
    "        return ''\n",
    "    if word in stop_words:\n",
    "        return ''\n",
    "    return word.translate(rm_punc).strip()\n",
    "\n",
    "def clean_tweet(tweet):\n",
    "    tweet = unidecode.unidecode(tweet).lower().split()\n",
    "    tweet = [clean_tweet_word(x) for x in tweet]\n",
    "    tweet = list(itertools.chain.from_iterable([x.split() for x in tweet if x != '']))\n",
    "    tweet = [x for x in tweet if len(x) > 1]\n",
    "    return tweet"
   ]
  },
  {
   "cell_type": "code",
   "execution_count": 9,
   "metadata": {},
   "outputs": [
    {
     "data": {
      "text/plain": [
       "0                                       [observed, too]\n",
       "1                                               [rosie]\n",
       "2            [true, baby, resa, don, enter, iyke, ribs]\n",
       "3                                            [say, bru]\n",
       "4              [kayode, ladies, room, knees, #iykeresa]\n",
       "5                 [didn, couldn, finger, glued, screen]\n",
       "6                                           [goodnight]\n",
       "7     [that, talking, about, iyke, guy, hold, woman,...\n",
       "8     [time, flies, months, lead, years, lifetime, c...\n",
       "9                              [mind, share, whattsapp]\n",
       "10    [kayode, idiot, remove, camera, away, babies, ...\n",
       "11              [syazifanela, njeke, lapho, mtaka, mah]\n",
       "12                                                   []\n",
       "13                                                   []\n",
       "14                [thought, joking, allow, participate]\n",
       "15    [let, nap, wake, done, oh, remind, resa, don, ...\n",
       "16                                              [swear]\n",
       "17                 [recieve, mntakamama, andiyiki, mfo]\n",
       "18               [eeh, iyke, read, minds, minds, swear]\n",
       "19                       [stupid, kayode, camera, away]\n",
       "20    [vibe, kitchen, today, ehh, 25, gang, ladies, ...\n",
       "21    [love, faint, hearted, like, you, oya, na, cru...\n",
       "22                                     [@downloaderbot]\n",
       "23           [love, movie, love, @markwahlberg, movies]\n",
       "24    [died, asthma, think, im, scared, blocking, th...\n",
       "25                       [sing, supper, wena, mlungisi]\n",
       "26                                              [guess]\n",
       "27                                             [oh, no]\n",
       "28    [guess, adulting, told, me, not, entitled, tho...\n",
       "29    [single, person, mom, asked, far, arrangements...\n",
       "30                                 [no, old, dangerous]\n",
       "31                                              [funny]\n",
       "32    [yheni, baby, girl, soon, swallow, iyke, so, f...\n",
       "33               [amazing, dress, congratulations, sis]\n",
       "34                          [thank, love, info, coming]\n",
       "35    [doing, perfectly, reporting, ground, good, wo...\n",
       "36                                 [trust, imagination]\n",
       "37                           [that, wanted, know, what]\n",
       "38                         [posted, na, know, sleeping]\n",
       "39                                               [tell]\n",
       "40                                       [@owen, ncane]\n",
       "41    [iykeresa, day, shift, shipmates, stingy, phot...\n",
       "42    [unkulunkulu, ungumdali, indalo, ingubufakazi,...\n",
       "43    [@cyrilramaphosa, maiden, 2019, sona, speech, ...\n",
       "44    [plants, stephward, estate, exotic, plant, nur...\n",
       "45    [plants, stephward, estate, exotic, plant, nur...\n",
       "46    [philodendron, plants, sale, stephward, estate...\n",
       "47     [ninama, arguments, amnandi, kodwa, lerato, yaz]\n",
       "48    [subscribe, youtube, channel, #aliwalshoalscub...\n",
       "49                       [subsscribe, youtube, channel]\n",
       "50                   [don, stingy, videos, today, abeg]\n",
       "51    [capable, voting, babies, votes, don, mean, an...\n",
       "52    [parents, investigated, obtained, sa, citizens...\n",
       "53    [painting, sale, soon, work, progess, south, a...\n",
       "54    [don, raise, continue, themselves, that, loved...\n",
       "55                  [going, inabantu, bayo, mina, them]\n",
       "56    [happy, monday, everyone, thanks, following, #...\n",
       "57    [aliwal, shoal, underwater, national, park, le...\n",
       "58                     [liquids, food, plus, bed, rest]\n",
       "59                              [paranoid, good, terms]\n",
       "60                        [happened, good, terms, best]\n",
       "61    [resa, doing, bed, friend, cuddle, husband, na...\n",
       "62    [exotic, plants, sale, stephward, estate, orch...\n",
       "63    [exotic, plants, sale, stephward, estate, orch...\n",
       "64    [exotic, plants, sale, stephward, estate, orch...\n",
       "65                        [just, received, great, news]\n",
       "66                                 [#sjava, #ladyzamar]\n",
       "67                              [chelsea, everton, old]\n",
       "68    [point, exactly, did, continue, incident, clea...\n",
       "69                               [ready, book, tickets]\n",
       "70    [spot, bruh, jon, jones, reyes, izzy, smart, h...\n",
       "71                                       [follow, soon]\n",
       "72                                                [aba]\n",
       "73                                      [manaba, beach]\n",
       "74                                     [saying, follow]\n",
       "Name: tweet, dtype: object"
      ]
     },
     "execution_count": 9,
     "metadata": {},
     "output_type": "execute_result"
    }
   ],
   "source": [
    "tweets['tweet'].apply(clean_tweet)"
   ]
  },
  {
   "cell_type": "code",
   "execution_count": 10,
   "metadata": {},
   "outputs": [
    {
     "ename": "TypeError",
     "evalue": "'method' object is not subscriptable",
     "output_type": "error",
     "traceback": [
      "\u001b[1;31m---------------------------------------------------------------------------\u001b[0m",
      "\u001b[1;31mTypeError\u001b[0m                                 Traceback (most recent call last)",
      "\u001b[1;32m<ipython-input-10-92b441c33a5c>\u001b[0m in \u001b[0;36m<module>\u001b[1;34m\u001b[0m\n\u001b[1;32m----> 1\u001b[1;33m \u001b[0mtweets\u001b[0m\u001b[1;33m.\u001b[0m\u001b[0mdrop\u001b[0m\u001b[1;33m[\u001b[0m\u001b[1;34m''\u001b[0m\u001b[1;33m]\u001b[0m\u001b[1;33m\u001b[0m\u001b[1;33m\u001b[0m\u001b[0m\n\u001b[0m\u001b[0;32m      2\u001b[0m \u001b[1;33m\u001b[0m\u001b[0m\n\u001b[0;32m      3\u001b[0m \u001b[0mtweets\u001b[0m\u001b[1;33m[\u001b[0m\u001b[1;34m'tweet'\u001b[0m\u001b[1;33m]\u001b[0m\u001b[1;33m[\u001b[0m\u001b[1;36m9\u001b[0m\u001b[1;33m]\u001b[0m\u001b[1;33m\u001b[0m\u001b[1;33m\u001b[0m\u001b[0m\n",
      "\u001b[1;31mTypeError\u001b[0m: 'method' object is not subscriptable"
     ]
    }
   ],
   "source": [
    "tweets.drop['']\n",
    "\n",
    "tweets['tweet'][9]"
   ]
  },
  {
   "cell_type": "code",
   "execution_count": null,
   "metadata": {},
   "outputs": [],
   "source": [
    "tfidf_transform = sklearn.feature_extraction.text.TfidfVectorizer(analyzer=clean_tweet, min_df=0.05)\n",
    "X = tfidf_transform.fit_transform(tweets['tweet'])"
   ]
  },
  {
   "cell_type": "code",
   "execution_count": null,
   "metadata": {},
   "outputs": [],
   "source": [
    "tfidf_transform.get_feature_names()"
   ]
  },
  {
   "cell_type": "code",
   "execution_count": null,
   "metadata": {},
   "outputs": [],
   "source": []
  }
 ],
 "metadata": {
  "kernelspec": {
   "display_name": "Python 3",
   "language": "python",
   "name": "python3"
  },
  "language_info": {
   "codemirror_mode": {
    "name": "ipython",
    "version": 3
   },
   "file_extension": ".py",
   "mimetype": "text/x-python",
   "name": "python",
   "nbconvert_exporter": "python",
   "pygments_lexer": "ipython3",
   "version": "3.8.6"
  }
 },
 "nbformat": 4,
 "nbformat_minor": 4
}

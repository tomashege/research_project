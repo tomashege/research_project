{
 "cells": [
  {
   "cell_type": "code",
   "execution_count": 1,
   "metadata": {},
   "outputs": [],
   "source": [
    "import pandas as pd\n",
    "import numpy as np\n",
    "import matplotlib\n"
   ]
  },
  {
   "cell_type": "code",
   "execution_count": 2,
   "metadata": {},
   "outputs": [
    {
     "data": {
      "text/plain": [
       "<matplotlib.axes._subplots.AxesSubplot at 0x10f0bad30>"
      ]
     },
     "execution_count": 2,
     "metadata": {},
     "output_type": "execute_result"
    },
    {
     "data": {
      "image/png": "[encoded data removed]",
      "text/plain": [
       "<Figure size 432x288 with 1 Axes>"
      ]
     },
     "metadata": {
      "needs_background": "light"
     },
     "output_type": "display_data"
    }
   ],
   "source": [
    "url = \"https://raw.githubusercontent.com/zfz/twitter_corpus/master/full-corpus.csv\"\n",
    "tweets=pd.read_csv(url)\n",
    "tweets['TweetText'].str.len().hist()\n",
    "# What we have done here is that we are wokring with a list of tweets that i found on GitHub and we \n",
    "#going to use NLP on them to see what we can find. the tweets are allredy ordered into sentimnet...\n",
    "#this is a length of teh tweet. most of them are at around 140\n",
    "#Tweets aboout mobile phones...\n"
   ]
  },
  {
   "cell_type": "code",
   "execution_count": 15,
   "metadata": {},
   "outputs": [
    {
     "name": "stderr",
     "output_type": "stream",
     "text": [
      "[nltk_data] Downloading package stopwords to\n",
      "[nltk_data]     /Users/tomashegewisch/nltk_data...\n",
      "[nltk_data]   Package stopwords is already up-to-date!\n"
     ]
    }
   ],
   "source": [
    "import nltk #for stop words\n",
    "from nltk.corpus import stopwords\n",
    "nltk.download('stopwords')\n",
    "stop = set(stopwords.words('english'))\n",
    "# the stop words are words like and this (which have no real meaning)"
   ]
  },
  {
   "cell_type": "code",
   "execution_count": 31,
   "metadata": {},
   "outputs": [
    {
     "data": {
      "text/plain": [
       "<BarContainer object of 10 artists>"
      ]
     },
     "execution_count": 31,
     "metadata": {},
     "output_type": "execute_result"
    },
    {
     "data": {
      "image/png": "[encoded data removed]",
      "text/plain": [
       "<Figure size 432x288 with 1 Axes>"
      ]
     },
     "metadata": {
      "needs_background": "light"
     },
     "output_type": "display_data"
    }
   ],
   "source": [
    "corpus = []\n",
    "new = tweets['TweetText'].str.split()\n",
    "new = new.values.tolist()\n",
    "corpus = [word for i in new for word in i]\n",
    "\n",
    "from collections import defaultdict\n",
    "dic =defaultdict(int)\n",
    "for word in corpus:\n",
    "    if word in stop:\n",
    "        dic[word]+=1\n",
    "\n",
    "import matplotlib.pyplot as plt\n",
    "top = sorted(dic.items(), key=lambda x:x[1],reverse=True)[:10] \n",
    "x,y = zip(*top)\n",
    "plt.bar(x,y)\n",
    "# this is a bar chart on the popularity of the words... This is not usefull we need to remove the stop\n",
    "wokds"
   ]
  },
  {
   "cell_type": "code",
   "execution_count": 43,
   "metadata": {},
   "outputs": [],
   "source": [
    "# After running I found that the stop words were not removing twitter epecifc words, So we will remove\n",
    "# them by adding data to the wstop words\n",
    "\n",
    "stop.add(\"RT\")\n",
    "stop.add(\"de\")\n",
    "stop.add(\"...\")\n",
    "stop.add(\"&\")\n",
    "stop.add(\"I\")\n",
    "stop.add(\"-\")\n",
    "stop.add(\"el\")\n",
    "stop.add(\"en\")\n",
    "stop.add(\"new\")\n",
    "stop.add(\"que\")"
   ]
  },
  {
   "cell_type": "code",
   "execution_count": 44,
   "metadata": {},
   "outputs": [
    {
     "data": {
      "text/plain": [
       "<matplotlib.axes._subplots.AxesSubplot at 0x120af02b0>"
      ]
     },
     "execution_count": 44,
     "metadata": {},
     "output_type": "execute_result"
    },
    {
     "data": {
      "image/png": "[encoded data removed]",
      "text/plain": [
       "<Figure size 432x288 with 1 Axes>"
      ]
     },
     "metadata": {
      "needs_background": "light"
     },
     "output_type": "display_data"
    }
   ],
   "source": [
    "import seaborn as sns\n",
    "from collections import Counter\n",
    "\n",
    "counter = Counter(corpus)\n",
    "most = counter.most_common()\n",
    "\n",
    "x, y = [], []\n",
    "for word, count in most[:40]:\n",
    "    if (word not in stop):\n",
    "        x.append(word)\n",
    "        y.append(count)\n",
    "sns.barplot (x = y, y = x)"
   ]
  },
  {
   "cell_type": "code",
   "execution_count": 92,
   "metadata": {},
   "outputs": [
    {
     "data": {
      "text/plain": [
       "Sentiment(polarity=0.525, subjectivity=0.5166666666666666)"
      ]
     },
     "execution_count": 92,
     "metadata": {},
     "output_type": "execute_result"
    }
   ],
   "source": [
    "from textblob import TextBlob\n",
    "TextBlob('''Lol Fikile Mbalula has deleted this tweet, \n",
    "some of our Ministers and celebs seems like they just tweet without thinking first.''').sentiment"
   ]
  },
  {
   "cell_type": "code",
   "execution_count": 70,
   "metadata": {},
   "outputs": [
    {
     "name": "stdout",
     "output_type": "stream",
     "text": [
      "0.09037202019468395\n"
     ]
    }
   ],
   "source": [
    "new = tweets['TweetText']\n",
    "new = new.values.tolist()\n",
    "avg = 0\n",
    "for i in new:\n",
    "    avg += TextBlob(i).sentiment.polarity\n",
    "    #print(avg)\n",
    "avg = avg/len(new)\n",
    "print(avg)\n",
    "#It is mostly postive..... (but we are not sure)"
   ]
  },
  {
   "cell_type": "code",
   "execution_count": 81,
   "metadata": {},
   "outputs": [],
   "source": [
    "#lets look for duplicate tweets\n",
    "tweetList = tweets['TweetText'].tolist()"
   ]
  },
  {
   "cell_type": "code",
   "execution_count": null,
   "metadata": {},
   "outputs": [],
   "source": []
  }
 ],
 "metadata": {
  "kernelspec": {
   "display_name": "Python 3",
   "language": "python",
   "name": "python3"
  },
  "language_info": {
   "codemirror_mode": {
    "name": "ipython",
    "version": 3
   },
   "file_extension": ".py",
   "mimetype": "text/x-python",
   "name": "python",
   "nbconvert_exporter": "python",
   "pygments_lexer": "ipython3",
   "version": "3.7.0"
  }
 },
 "nbformat": 4,
 "nbformat_minor": 4
}

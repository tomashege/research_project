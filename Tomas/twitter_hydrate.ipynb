{
 "cells": [
  {
   "cell_type": "code",
   "execution_count": 5,
   "metadata": {},
   "outputs": [],
   "source": [
    "import hide as info # key information\n",
    "d = info.data\n",
    "import requests\n",
    "import os\n",
    "from tqdm.notebook import tqdm\n",
    "import json"
   ]
  },
  {
   "cell_type": "code",
   "execution_count": 6,
   "metadata": {},
   "outputs": [],
   "source": [
    "bearer_token = d['bearer_token']\n",
    "auth = {'Authorization': 'Bearer ' + bearer_token}\n",
    "request = {\"id\" : '1263418163754041345', \"tweet_mode\":\"extended\"}\n",
    "url = 'https://api.twitter.com/1.1/statuses/lookup.json'\n",
    "response = requests.post(url, params=request, headers=auth)\n",
    "#print(response)\n",
    "#response.json()"
   ]
  },
  {
   "cell_type": "code",
   "execution_count": 7,
   "metadata": {},
   "outputs": [],
   "source": [
    "def get_all_tweet_data(id):\n",
    "    bearer_token = d['bearer_token']\n",
    "    auth = {'Authorization': 'Bearer ' + bearer_token}\n",
    "    request = {\"id\" : str(id), \"tweet_mode\":\"extended\"}\n",
    "    url = 'https://api.twitter.com/1.1/statuses/lookup.json'\n",
    "    response = requests.post(url, params=request, headers=auth)\n",
    "    return response.json()"
   ]
  },
  {
   "cell_type": "code",
   "execution_count": 10,
   "metadata": {},
   "outputs": [
    {
     "data": {
      "application/vnd.jupyter.widget-view+json": {
       "model_id": "a580696c968d44b39e50efe0cc9591fe",
       "version_major": 2,
       "version_minor": 0
      },
      "text/plain": [
       "HBox(children=(FloatProgress(value=0.0, max=11.0), HTML(value='')))"
      ]
     },
     "metadata": {},
     "output_type": "display_data"
    },
    {
     "name": "stdout",
     "output_type": "stream",
     "text": [
      "\n"
     ]
    },
    {
     "data": {
      "application/vnd.jupyter.widget-view+json": {
       "model_id": "3059c61e97b848c1b78f2c3af9f09b8c",
       "version_major": 2,
       "version_minor": 0
      },
      "text/plain": [
       "HBox(children=(FloatProgress(value=0.0, max=11.0), HTML(value='')))"
      ]
     },
     "metadata": {},
     "output_type": "display_data"
    },
    {
     "name": "stdout",
     "output_type": "stream",
     "text": [
      "\n"
     ]
    }
   ],
   "source": [
    "direct = \"/Users/tomashegewisch/Downloads/COVID19_Tweets_Dataset-master/test/\"\n",
    "#current it is set to test... for testing purpouses.\n",
    "og = os.listdir(direct)\n",
    "count = 0\n",
    "for i in og:\n",
    "    if i == \".DS_Store\":\n",
    "        continue\n",
    "    with open(direct+i, 'r') as reader:\n",
    "        list_of_ids = []\n",
    "        tweets_hydrated = []\n",
    "        try:\n",
    "            list_of_ids = json.loads(reader.read())\n",
    "        except:\n",
    "            print(\"error The Json decoder did not find a list, could be a hidden file '.DS Store'\")\n",
    "        for j in tqdm(list_of_ids):\n",
    "            count+= 1\n",
    "            #call the API now... This will take long\n",
    "            try:\n",
    "                temp = get_all_tweet_data(j)\n",
    "            except:\n",
    "                print(\"error when calling API\")\n",
    "            if temp != []:\n",
    "                tweets_hydrated.append(temp[0])\n",
    "    with open(\"hydrated/\"+i.split(\".\")[0]+\".json\", 'w') as outfile:\n",
    "            json.dump(tweets_hydrated, outfile)"
   ]
  },
  {
   "cell_type": "code",
   "execution_count": null,
   "metadata": {},
   "outputs": [],
   "source": []
  }
 ],
 "metadata": {
  "kernelspec": {
   "display_name": "Python 3",
   "language": "python",
   "name": "python3"
  },
  "language_info": {
   "codemirror_mode": {
    "name": "ipython",
    "version": 3
   },
   "file_extension": ".py",
   "mimetype": "text/x-python",
   "name": "python",
   "nbconvert_exporter": "python",
   "pygments_lexer": "ipython3",
   "version": "3.7.0"
  }
 },
 "nbformat": 4,
 "nbformat_minor": 4
}

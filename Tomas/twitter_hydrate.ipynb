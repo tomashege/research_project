{
 "cells": [
  {
   "cell_type": "code",
   "execution_count": 2,
   "metadata": {},
   "outputs": [],
   "source": [
    "import hide as info # key information\n",
    "d = info.data\n",
    "import requests\n",
    "import os\n",
    "from tqdm.notebook import tqdm\n",
    "import json\n",
    "#\n",
    "#\n",
    "#\n",
    "#\n",
    "#What we need to look at is that when there is a RT it actually retunes the orginisal tweet asweell\n",
    "##"
   ]
  },
  {
   "cell_type": "code",
   "execution_count": 3,
   "metadata": {},
   "outputs": [],
   "source": [
    "bearer_token = d['bearer_token']\n",
    "auth = {'Authorization': 'Bearer ' + bearer_token}\n",
    "request = {\"id\" : '1263418163754041345', \"tweet_mode\":\"extended\"}\n",
    "url = 'https://api.twitter.com/1.1/statuses/lookup.json'\n",
    "response = requests.post(url, params=request, headers=auth)\n",
    "#print(response)\n",
    "#response.json()"
   ]
  },
  {
   "cell_type": "code",
   "execution_count": 4,
   "metadata": {},
   "outputs": [],
   "source": [
    "def get_all_tweet_data(id):\n",
    "    bearer_token = d['bearer_token']\n",
    "    # https://developer.twitter.com/en/docs/basics/authentication/oauth-2-0/bearer-tokens\n",
    "    #follow link to see how to get a bearer using API keys and scercits\n",
    "    auth = {'Authorization': 'Bearer ' + bearer_token}\n",
    "    request = {\"id\" : str(id), \"tweet_mode\":\"extended\"}\n",
    "    #https://developer.twitter.com/en/docs/tweets/post-and-engage/api-reference/get-statuses-lookup\n",
    "    url = 'https://api.twitter.com/1.1/statuses/lookup.json'\n",
    "    response = requests.post(url, params=request, headers=auth)\n",
    "    return response.json()"
   ]
  },
  {
   "cell_type": "code",
   "execution_count": 5,
   "metadata": {},
   "outputs": [
    {
     "data": {
      "application/vnd.jupyter.widget-view+json": {
       "model_id": "bd24c63ab9df4a6fa111ede7cda8d9bb",
       "version_major": 2,
       "version_minor": 0
      },
      "text/plain": [
       "HBox(children=(FloatProgress(value=0.0, max=7714.0), HTML(value='')))"
      ]
     },
     "metadata": {},
     "output_type": "display_data"
    },
    {
     "name": "stdout",
     "output_type": "stream",
     "text": [
      "\n"
     ]
    },
    {
     "ename": "TypeError",
     "evalue": "can only concatenate str (not \"int\") to str",
     "output_type": "error",
     "traceback": [
      "\u001b[0;31m---------------------------------------------------------------------------\u001b[0m",
      "\u001b[0;31mTypeError\u001b[0m                                 Traceback (most recent call last)",
      "\u001b[0;32m<ipython-input-5-bb0ebd36a441>\u001b[0m in \u001b[0;36m<module>\u001b[0;34m\u001b[0m\n\u001b[1;32m     27\u001b[0m     \u001b[0;32mwith\u001b[0m \u001b[0mopen\u001b[0m\u001b[0;34m(\u001b[0m\u001b[0;34m\"hydrated/\"\u001b[0m\u001b[0;34m+\u001b[0m\u001b[0mi\u001b[0m\u001b[0;34m.\u001b[0m\u001b[0msplit\u001b[0m\u001b[0;34m(\u001b[0m\u001b[0;34m\".\"\u001b[0m\u001b[0;34m)\u001b[0m\u001b[0;34m[\u001b[0m\u001b[0;36m0\u001b[0m\u001b[0;34m]\u001b[0m\u001b[0;34m+\u001b[0m\u001b[0;34m\".json\"\u001b[0m\u001b[0;34m,\u001b[0m \u001b[0;34m'w'\u001b[0m\u001b[0;34m)\u001b[0m \u001b[0;32mas\u001b[0m \u001b[0moutfile\u001b[0m\u001b[0;34m:\u001b[0m\u001b[0;34m\u001b[0m\u001b[0m\n\u001b[1;32m     28\u001b[0m             \u001b[0mjson\u001b[0m\u001b[0;34m.\u001b[0m\u001b[0mdump\u001b[0m\u001b[0;34m(\u001b[0m\u001b[0mtweets_hydrated\u001b[0m\u001b[0;34m,\u001b[0m \u001b[0moutfile\u001b[0m\u001b[0;34m)\u001b[0m\u001b[0;34m\u001b[0m\u001b[0m\n\u001b[0;32m---> 29\u001b[0;31m \u001b[0mprint\u001b[0m\u001b[0;34m(\u001b[0m\u001b[0;34m\"When the API was called \"\u001b[0m \u001b[0;34m+\u001b[0m \u001b[0mno_result_returned\u001b[0m \u001b[0;34m+\u001b[0m \u001b[0;34m\" returned no results\"\u001b[0m\u001b[0;34m)\u001b[0m\u001b[0;34m\u001b[0m\u001b[0m\n\u001b[0m",
      "\u001b[0;31mTypeError\u001b[0m: can only concatenate str (not \"int\") to str"
     ]
    }
   ],
   "source": [
    "direct = \"/Users/tomashegewisch/Downloads/COVID19_Tweets_Dataset-master/test/\"\n",
    "#current it is set to test... for testing purpouses.\n",
    "files = os.listdir(direct)\n",
    "count = 0\n",
    "no_result_returned = 0\n",
    "for i in files:\n",
    "    if i == \".DS_Store\":\n",
    "        continue\n",
    "    with open(direct+i, 'r') as reader:\n",
    "        list_of_ids = []\n",
    "        tweets_hydrated = []\n",
    "        try:\n",
    "            list_of_ids = json.loads(reader.read())\n",
    "        except:\n",
    "            print(\"error The Json decoder did not find a list, could be a hidden file '.DS Store'\")\n",
    "        for j in tqdm(list_of_ids):\n",
    "            count+= 1\n",
    "            #call the API now... This will take long\n",
    "            try:\n",
    "                temp = get_all_tweet_data(j)\n",
    "            except:\n",
    "                print(\"error when calling API\")\n",
    "            if temp != []:\n",
    "                tweets_hydrated.append(temp[0])\n",
    "            else:\n",
    "                no_result_returned += 1\n",
    "    with open(\"hydrated/\"+i.split(\".\")[0]+\".json\", 'w') as outfile:\n",
    "            json.dump(tweets_hydrated, outfile)\n",
    "print(\"When the API was called \" + no_result_returned + \" returned no results\")"
   ]
  },
  {
   "cell_type": "code",
   "execution_count": null,
   "metadata": {},
   "outputs": [],
   "source": []
  }
 ],
 "metadata": {
  "kernelspec": {
   "display_name": "Python 3",
   "language": "python",
   "name": "python3"
  },
  "language_info": {
   "codemirror_mode": {
    "name": "ipython",
    "version": 3
   },
   "file_extension": ".py",
   "mimetype": "text/x-python",
   "name": "python",
   "nbconvert_exporter": "python",
   "pygments_lexer": "ipython3",
   "version": "3.7.0"
  }
 },
 "nbformat": 4,
 "nbformat_minor": 4
}

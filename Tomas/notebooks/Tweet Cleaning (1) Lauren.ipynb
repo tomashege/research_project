{
 "cells": [
  {
   "cell_type": "code",
   "execution_count": 4,
   "metadata": {},
   "outputs": [],
   "source": [
    "# Package imports\n",
    "import itertools\n",
    "import pandas as pd\n",
    "import preprocessor as p\n",
    "import re\n",
    "import sklearn.feature_extraction\n",
    "import string\n",
    "import unidecode\n",
    "from nltk.stem import PorterStemmer, LancasterStemmer\n",
    "from nltk.tokenize import sent_tokenize, word_tokenize\n",
    "from collections import Counter\n",
    "from langdetect import detect\n",
    "import seaborn as sns\n",
    "import spacy\n",
    "\n",
    "# Lambda function for printing\n",
    "debug = lambda x: print(x)"
   ]
  },
  {
   "cell_type": "code",
   "execution_count": 5,
   "metadata": {},
   "outputs": [],
   "source": [
    "# Create punctuation removal variable\n",
    "rm_punc = str.maketrans('', '', string.punctuation)\n",
    "\n",
    "# Create stopword removal variable\n",
    "stopwords = sklearn.feature_extraction.text.ENGLISH_STOP_WORDS\n",
    "temp_word = set(stopwords)\n",
    "new_words_temp = [] # <- Add any additional stopwords here\n",
    "for i in new_words_temp:\n",
    "    temp_word.add(i)\n",
    "stopwords = frozenset(temp_word)\n",
    "\n",
    "# Create stemmer variables\n",
    "porter = PorterStemmer()\n",
    "lancaster = LancasterStemmer()"
   ]
  },
  {
   "cell_type": "code",
   "execution_count": null,
   "metadata": {},
   "outputs": [],
   "source": [
    "# Import JSON files containing tweet dataset(s)\n",
    "tweets = pd.read_json('/Users/tomashegewisch/Downloads/20200331-20200530/20200331-20200430.json', lines=True, orient='record')\n",
    "\n",
    "# View all rows contained in the dataset(s)\n",
    "pd.set_option('display.max_rows', tweets.shape[0]+1)"
   ]
  },
  {
   "cell_type": "code",
   "execution_count": 4,
   "metadata": {},
   "outputs": [
    {
     "name": "stdout",
     "output_type": "stream",
     "text": [
      "BEFORE\n",
      "383192\n",
      "\n",
      "AFTER\n",
      "85376\n"
     ]
    }
   ],
   "source": [
    "# Check for duplicate tweets\n",
    "debug(\"BEFORE\")\n",
    "debug(len(tweets))\n",
    "tweets.drop_duplicates(subset=['id'], keep=\"first\", inplace=True)\n",
    "debug(\"\\nAFTER\")\n",
    "debug(len(tweets))"
   ]
  },
  {
   "cell_type": "code",
   "execution_count": null,
   "metadata": {},
   "outputs": [
    {
     "name": "stdout",
     "output_type": "stream",
     "text": [
      "85376\n"
     ]
    }
   ],
   "source": [
    "# Remove all tweets which are not English\n",
    "def language(text):\n",
    "    try:\n",
    "        return detect(text)\n",
    "    except:\n",
    "        return \"en\"\n",
    "    \n",
    "debug(len(tweets))\n",
    "tweets = tweets[tweets['tweet'].apply(language) == \"en\"]\n",
    "debug(len(tweets))"
   ]
  },
  {
   "cell_type": "code",
   "execution_count": null,
   "metadata": {},
   "outputs": [],
   "source": [
    "# Stopword and link removal\n",
    "def remove_stopwords(word):\n",
    "    if word in stopwords:\n",
    "        return ''\n",
    "    if word.startswith('http') or word.startswith('pictwittercom') or word.endswith('com') or word.endswith('coza'):\n",
    "        return ''\n",
    "    return word\n",
    "\n",
    "# Preprocessing the tweet\n",
    "def preprocess(text):\n",
    "    clean_data = []\n",
    "    for x in text:\n",
    "        new_text = re.sub('<.*?>', '', x)   # remove HTML tags\n",
    "        new_text = re.sub(r'[^\\w\\s]', '', new_text) # remove punctuation\n",
    "        new_text = re.sub(r'\\d+','',new_text) # remove numbers\n",
    "        new_text = re.sub('\\n', ' ', new_text) #remove escape characters\n",
    "        new_text = new_text.lower() # lower case         \n",
    "        if new_text != '':\n",
    "            clean_data.append(new_text)\n",
    "        temp_string = ''\n",
    "        for i in clean_data:\n",
    "            temp_string += i\n",
    "    clean_data = temp_string\n",
    "    return clean_data\n",
    "\n",
    "# Cleaning and tokenising the tweet\n",
    "def clean_tweet(tweet):\n",
    "    tweet = preprocess(tweet)\n",
    "    tweet = unidecode.unidecode(tweet).lower().split()\n",
    "    tweet = [remove_stopwords(x) for x in tweet]\n",
    "    tweet = list(itertools.chain.from_iterable([x.split() for x in tweet if x != '']))\n",
    "    tweet = [x for x in tweet if len(x) > 1]\n",
    "    return tweet"
   ]
  },
  {
   "cell_type": "code",
   "execution_count": null,
   "metadata": {},
   "outputs": [],
   "source": [
    "tweets['tokenised'] = tweets['tweet'].apply(clean_tweet)"
   ]
  },
  {
   "cell_type": "code",
   "execution_count": null,
   "metadata": {},
   "outputs": [],
   "source": [
    "debug(preprocess(\"Hi my name is Jack the Quack *snort snort*\"))"
   ]
  },
  {
   "cell_type": "code",
   "execution_count": null,
   "metadata": {},
   "outputs": [],
   "source": [
    "def find_non_text(text):\n",
    "    if text == []:\n",
    "        return \"NA\""
   ]
  },
  {
   "cell_type": "code",
   "execution_count": null,
   "metadata": {},
   "outputs": [],
   "source": [
    "#DROP rows that do not have text in them...\n",
    "debug(\"Before\")\n",
    "debug(len(tweets))\n",
    "tweets = tweets[tweets['tokenised'].apply(find_non_text) != \"NA\"]\n",
    "debug(\"After\")\n",
    "debug(len(tweets))"
   ]
  },
  {
   "cell_type": "code",
   "execution_count": null,
   "metadata": {},
   "outputs": [],
   "source": []
  },
  {
   "cell_type": "code",
   "execution_count": null,
   "metadata": {},
   "outputs": [],
   "source": []
  },
  {
   "cell_type": "code",
   "execution_count": null,
   "metadata": {},
   "outputs": [],
   "source": [
    "hastags = []\n",
    "temp = []\n",
    "for i in tweets[\"hashtags\"]:\n",
    "    try:\n",
    "        if i != []:\n",
    "            for j in i:\n",
    "                hastags.append(j)\n",
    "    except:\n",
    "        pass\n",
    "\n",
    "count = Counter(hastags)\n",
    "x,y=list(map(list,zip(*count.most_common(15))))\n",
    "sns.barplot(x=y,y=x)"
   ]
  },
  {
   "cell_type": "code",
   "execution_count": null,
   "metadata": {},
   "outputs": [],
   "source": [
    "for i in tweets:\n",
    "    print(i)"
   ]
  },
  {
   "cell_type": "code",
   "execution_count": null,
   "metadata": {},
   "outputs": [],
   "source": []
  },
  {
   "cell_type": "code",
   "execution_count": null,
   "metadata": {},
   "outputs": [],
   "source": [
    "tweets.to_pickle(\"April.pkl\")"
   ]
  },
  {
   "cell_type": "code",
   "execution_count": null,
   "metadata": {},
   "outputs": [],
   "source": [
    "tweets = tweets.read_pickle(\"March.pkl\")"
   ]
  }
 ],
 "metadata": {
  "kernelspec": {
   "display_name": "Python 3",
   "language": "python",
   "name": "python3"
  },
  "language_info": {
   "codemirror_mode": {
    "name": "ipython",
    "version": 3
   },
   "file_extension": ".py",
   "mimetype": "text/x-python",
   "name": "python",
   "nbconvert_exporter": "python",
   "pygments_lexer": "ipython3",
   "version": "3.8.5"
  }
 },
 "nbformat": 4,
 "nbformat_minor": 4
}
